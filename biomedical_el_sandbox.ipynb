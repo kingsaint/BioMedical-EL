{
 "cells": [
  {
   "cell_type": "code",
   "execution_count": 1,
   "metadata": {},
   "outputs": [
    {
     "data": {
      "text/html": [
       "<div class=\"tex2jax_ignore\" style=\"white-space: pre-wrap\"><div><span style=\"display: inline-block; vertical-align: top\">Diffuse skeletal </span><span style=\"display: inline-block; vertical-align: top; position: relative; margin-bottom: 11px\"><span style=\"border-bottom: 3px solid #b39ddb; padding-bottom: 8px\">pain</span><span style=\"font-size: 11px; line-height: 1; white-space: nowrap; text-shadow: 1px 1px 0px white; position: absolute; left: 0; bottom: -8px\">Pain</span></span><span style=\"display: inline-block; vertical-align: top\"> after administration of </span><span style=\"display: inline-block; vertical-align: top; position: relative; margin-bottom: 11px\"><span style=\"border-bottom: 3px solid #bcaaa4; padding-bottom: 8px\">alendronate</span><span style=\"font-size: 11px; line-height: 1; white-space: nowrap; text-shadow: 1px 1px 0px white; position: absolute; left: 0; bottom: -8px\">Alendronate</span></span><span style=\"display: inline-block; vertical-align: top\">. BACKGROUND: </span></div><div><span style=\"display: inline-block; vertical-align: top\"></span><span style=\"display: inline-block; vertical-align: top; position: relative; margin-bottom: 11px\"><span style=\"border-bottom: 3px solid #90caf9; padding-bottom: 8px\">Osteoporosis</span><span style=\"font-size: 11px; line-height: 1; white-space: nowrap; text-shadow: 1px 1px 0px white; position: absolute; left: 0; bottom: -8px\">Osteoporosis</span></span><span style=\"display: inline-block; vertical-align: top\"> is caused by bone resorption in excess of bone formation, and </span></div><div><span style=\"display: inline-block; vertical-align: top\"></span><span style=\"display: inline-block; vertical-align: top; position: relative; margin-bottom: 11px\"><span style=\"border-bottom: 3px solid #a5d6a7; padding-bottom: 8px\">bisphosphonates</span><span style=\"font-size: 11px; line-height: 1; white-space: nowrap; text-shadow: 1px 1px 0px white; position: absolute; left: 0; bottom: -8px\">Diphosphonates</span></span><span style=\"display: inline-block; vertical-align: top\">, are used to inhibit bone resorption. </span><span style=\"display: inline-block; vertical-align: top; position: relative; margin-bottom: 11px\"><span style=\"border-bottom: 3px solid #bcaaa4; padding-bottom: 8px\">Alendronate</span><span style=\"font-size: 11px; line-height: 1; white-space: nowrap; text-shadow: 1px 1px 0px white; position: absolute; left: 0; bottom: -8px\">Alendronate</span></span><span style=\"display: inline-block; vertical-align: top\">, a </span></div><div><span style=\"display: inline-block; vertical-align: top\">biphosphonate, is effective for both the treatment and prevention of </span></div><div><span style=\"display: inline-block; vertical-align: top\"></span><span style=\"display: inline-block; vertical-align: top; position: relative; margin-bottom: 11px\"><span style=\"border-bottom: 3px solid #90caf9; padding-bottom: 8px\">osteoporosis</span><span style=\"font-size: 11px; line-height: 1; white-space: nowrap; text-shadow: 1px 1px 0px white; position: absolute; left: 0; bottom: -8px\">Osteoporosis</span></span><span style=\"display: inline-block; vertical-align: top\"> in postmenopausal women. Side effects are relatively few and </span></div><div><span style=\"display: inline-block; vertical-align: top\">prominently gastrointestinal. </span><span style=\"display: inline-block; vertical-align: top; position: relative; margin-bottom: 11px\"><span style=\"border-bottom: 3px solid #ef9a9a; padding-bottom: 8px\">Musculoskeletal pain</span><span style=\"font-size: 11px; line-height: 1; white-space: nowrap; text-shadow: 1px 1px 0px white; position: absolute; left: 0; bottom: -8px\">Musculoskeletal Pain</span></span><span style=\"display: inline-block; vertical-align: top\"> may be an important side </span></div><div><span style=\"display: inline-block; vertical-align: top\">effect in these patients. We presented a patient admitted to our out-patient </span></div><div><span style=\"display: inline-block; vertical-align: top\">clinic with diffuse skeletal </span><span style=\"display: inline-block; vertical-align: top; position: relative; margin-bottom: 11px\"><span style=\"border-bottom: 3px solid #b39ddb; padding-bottom: 8px\">pain</span><span style=\"font-size: 11px; line-height: 1; white-space: nowrap; text-shadow: 1px 1px 0px white; position: absolute; left: 0; bottom: -8px\">Pain</span></span><span style=\"display: inline-block; vertical-align: top\"> after three consecutive administration of </span></div><div><span style=\"display: inline-block; vertical-align: top\"></span><span style=\"display: inline-block; vertical-align: top; position: relative; margin-bottom: 11px\"><span style=\"border-bottom: 3px solid #bcaaa4; padding-bottom: 8px\">alendronate</span><span style=\"font-size: 11px; line-height: 1; white-space: nowrap; text-shadow: 1px 1px 0px white; position: absolute; left: 0; bottom: -8px\">Alendronate</span></span><span style=\"display: inline-block; vertical-align: top\">. CONCLUSION: We conclude that patients with </span><span style=\"display: inline-block; vertical-align: top; position: relative; margin-bottom: 11px\"><span style=\"border-bottom: 3px solid #90caf9; padding-bottom: 8px\">osteoporosis</span><span style=\"font-size: 11px; line-height: 1; white-space: nowrap; text-shadow: 1px 1px 0px white; position: absolute; left: 0; bottom: -8px\">Osteoporosis</span></span><span style=\"display: inline-block; vertical-align: top\"> can report </span></div><div><span style=\"display: inline-block; vertical-align: top\"></span><span style=\"display: inline-block; vertical-align: top; position: relative; margin-bottom: 11px\"><span style=\"border-bottom: 3px solid #b39ddb; padding-bottom: 8px\">pain</span><span style=\"font-size: 11px; line-height: 1; white-space: nowrap; text-shadow: 1px 1px 0px white; position: absolute; left: 0; bottom: -8px\">Pain</span></span><span style=\"display: inline-block; vertical-align: top\">, and </span><span style=\"display: inline-block; vertical-align: top; position: relative; margin-bottom: 11px\"><span style=\"border-bottom: 3px solid #a5d6a7; padding-bottom: 8px\">bisphosphonate</span><span style=\"font-size: 11px; line-height: 1; white-space: nowrap; text-shadow: 1px 1px 0px white; position: absolute; left: 0; bottom: -8px\">Diphosphonates</span></span><span style=\"display: inline-block; vertical-align: top\">-related </span><span style=\"display: inline-block; vertical-align: top; position: relative; margin-bottom: 11px\"><span style=\"border-bottom: 3px solid #b39ddb; padding-bottom: 8px\">pain</span><span style=\"font-size: 11px; line-height: 1; white-space: nowrap; text-shadow: 1px 1px 0px white; position: absolute; left: 0; bottom: -8px\">Pain</span></span><span style=\"display: inline-block; vertical-align: top\"> should also be considered before ascribing</span></div><div><span style=\"display: inline-block; vertical-align: top\"> this complaint to </span><span style=\"display: inline-block; vertical-align: top; position: relative; margin-bottom: 11px\"><span style=\"border-bottom: 3px solid #90caf9; padding-bottom: 8px\">osteoporosis</span><span style=\"font-size: 11px; line-height: 1; white-space: nowrap; text-shadow: 1px 1px 0px white; position: absolute; left: 0; bottom: -8px\">Osteoporosis</span></span><span style=\"display: inline-block; vertical-align: top\">.</span></div></div>"
      ],
      "text/plain": [
       "<IPython.core.display.HTML object>"
      ]
     },
     "metadata": {},
     "output_type": "display_data"
    },
    {
     "name": "stdout",
     "output_type": "stream",
     "text": [
      "Mentions Omitted: 0\n"
     ]
    },
    {
     "data": {
      "text/html": [
       "<div class=\"tex2jax_ignore\" style=\"white-space: pre-wrap\"><div><span style=\"display: inline-block; vertical-align: top\">Diffuse skeletal </span><span style=\"display: inline-block; vertical-align: top; position: relative; margin-bottom: 11px\"><span style=\"border-bottom: 3px solid #b39ddb; padding-bottom: 8px\">pain</span><span style=\"font-size: 11px; line-height: 1; white-space: nowrap; text-shadow: 1px 1px 0px white; position: absolute; left: 0; bottom: -8px\">Pain</span></span><span style=\"display: inline-block; vertical-align: top\"> after administration of </span><span style=\"display: inline-block; vertical-align: top; position: relative; margin-bottom: 11px\"><span style=\"border-bottom: 3px solid #bcaaa4; padding-bottom: 8px\">alendronate</span><span style=\"font-size: 11px; line-height: 1; white-space: nowrap; text-shadow: 1px 1px 0px white; position: absolute; left: 0; bottom: -8px\">Alendronate</span></span><span style=\"display: inline-block; vertical-align: top\">. BACKGROUND: </span></div><div><span style=\"display: inline-block; vertical-align: top\"></span><span style=\"display: inline-block; vertical-align: top; position: relative; margin-bottom: 11px\"><span style=\"border-bottom: 3px solid #90caf9; padding-bottom: 8px\">Osteoporosis</span><span style=\"font-size: 11px; line-height: 1; white-space: nowrap; text-shadow: 1px 1px 0px white; position: absolute; left: 0; bottom: -8px\">Osteoporosis</span></span><span style=\"display: inline-block; vertical-align: top\"> is caused by bone resorption in excess of bone formation, and </span></div><div><span style=\"display: inline-block; vertical-align: top\"></span><span style=\"display: inline-block; vertical-align: top; position: relative; margin-bottom: 11px\"><span style=\"border-bottom: 3px solid #a5d6a7; padding-bottom: 8px\">bisphosphonates</span><span style=\"font-size: 11px; line-height: 1; white-space: nowrap; text-shadow: 1px 1px 0px white; position: absolute; left: 0; bottom: -8px\">Diphosphonates</span></span><span style=\"display: inline-block; vertical-align: top\">, are used to inhibit bone resorption. </span><span style=\"display: inline-block; vertical-align: top; position: relative; margin-bottom: 11px\"><span style=\"border-bottom: 3px solid #bcaaa4; padding-bottom: 8px\">Alendronate</span><span style=\"font-size: 11px; line-height: 1; white-space: nowrap; text-shadow: 1px 1px 0px white; position: absolute; left: 0; bottom: -8px\">Alendronate</span></span><span style=\"display: inline-block; vertical-align: top\">, a </span></div><div><span style=\"display: inline-block; vertical-align: top\">biphosphonate, is effective for both the treatment and prevention of </span></div><div><span style=\"display: inline-block; vertical-align: top\"></span><span style=\"display: inline-block; vertical-align: top; position: relative; margin-bottom: 11px\"><span style=\"border-bottom: 3px solid #90caf9; padding-bottom: 8px\">osteoporosis</span><span style=\"font-size: 11px; line-height: 1; white-space: nowrap; text-shadow: 1px 1px 0px white; position: absolute; left: 0; bottom: -8px\">Osteoporosis</span></span><span style=\"display: inline-block; vertical-align: top\"> in postmenopausal women. Side effects are relatively few and </span></div><div><span style=\"display: inline-block; vertical-align: top\">prominently gastrointestinal. </span><span style=\"display: inline-block; vertical-align: top; position: relative; margin-bottom: 11px\"><span style=\"border-bottom: 3px solid #ef9a9a; padding-bottom: 8px\">Musculoskeletal pain</span><span style=\"font-size: 11px; line-height: 1; white-space: nowrap; text-shadow: 1px 1px 0px white; position: absolute; left: 0; bottom: -8px\">Musculoskeletal Pain</span></span><span style=\"display: inline-block; vertical-align: top\"> may be an important side </span></div><div><span style=\"display: inline-block; vertical-align: top\">effect in these patients. We presented a patient admitted to our out-patient </span></div><div><span style=\"display: inline-block; vertical-align: top\">clinic with diffuse skeletal </span><span style=\"display: inline-block; vertical-align: top; position: relative; margin-bottom: 11px\"><span style=\"border-bottom: 3px solid #b39ddb; padding-bottom: 8px\">pain</span><span style=\"font-size: 11px; line-height: 1; white-space: nowrap; text-shadow: 1px 1px 0px white; position: absolute; left: 0; bottom: -8px\">Pain</span></span><span style=\"display: inline-block; vertical-align: top\"></span></div></div>"
      ],
      "text/plain": [
       "<IPython.core.display.HTML object>"
      ]
     },
     "metadata": {},
     "output_type": "display_data"
    },
    {
     "name": "stdout",
     "output_type": "stream",
     "text": [
      "-----------------------------------\n"
     ]
    },
    {
     "data": {
      "text/html": [
       "<div class=\"tex2jax_ignore\" style=\"white-space: pre-wrap\"><div><span style=\"display: inline-block; vertical-align: top\"> after three consecutive administration of </span><span style=\"display: inline-block; vertical-align: top; position: relative; margin-bottom: 11px\"><span style=\"border-bottom: 3px solid #bcaaa4; padding-bottom: 8px\">alendronate</span><span style=\"font-size: 11px; line-height: 1; white-space: nowrap; text-shadow: 1px 1px 0px white; position: absolute; left: 0; bottom: -8px\">Alendronate</span></span><span style=\"display: inline-block; vertical-align: top\">. CONCLUSION: We conclude </span></div><div><span style=\"display: inline-block; vertical-align: top\">that patients with </span><span style=\"display: inline-block; vertical-align: top; position: relative; margin-bottom: 11px\"><span style=\"border-bottom: 3px solid #90caf9; padding-bottom: 8px\">osteoporosis</span><span style=\"font-size: 11px; line-height: 1; white-space: nowrap; text-shadow: 1px 1px 0px white; position: absolute; left: 0; bottom: -8px\">Osteoporosis</span></span><span style=\"display: inline-block; vertical-align: top\"> can report </span><span style=\"display: inline-block; vertical-align: top; position: relative; margin-bottom: 11px\"><span style=\"border-bottom: 3px solid #b39ddb; padding-bottom: 8px\">pain</span><span style=\"font-size: 11px; line-height: 1; white-space: nowrap; text-shadow: 1px 1px 0px white; position: absolute; left: 0; bottom: -8px\">Pain</span></span><span style=\"display: inline-block; vertical-align: top\">, and </span><span style=\"display: inline-block; vertical-align: top; position: relative; margin-bottom: 11px\"><span style=\"border-bottom: 3px solid #a5d6a7; padding-bottom: 8px\">bisphosphonate</span><span style=\"font-size: 11px; line-height: 1; white-space: nowrap; text-shadow: 1px 1px 0px white; position: absolute; left: 0; bottom: -8px\">Diphosphonates</span></span><span style=\"display: inline-block; vertical-align: top\">-related </span><span style=\"display: inline-block; vertical-align: top; position: relative; margin-bottom: 11px\"><span style=\"border-bottom: 3px solid #b39ddb; padding-bottom: 8px\">pain</span><span style=\"font-size: 11px; line-height: 1; white-space: nowrap; text-shadow: 1px 1px 0px white; position: absolute; left: 0; bottom: -8px\">Pain</span></span><span style=\"display: inline-block; vertical-align: top\"></span></div><div><span style=\"display: inline-block; vertical-align: top\"> should also be considered before ascribing this complaint to </span><span style=\"display: inline-block; vertical-align: top; position: relative; margin-bottom: 11px\"><span style=\"border-bottom: 3px solid #90caf9; padding-bottom: 8px\">osteoporosis</span><span style=\"font-size: 11px; line-height: 1; white-space: nowrap; text-shadow: 1px 1px 0px white; position: absolute; left: 0; bottom: -8px\">Osteoporosis</span></span><span style=\"display: inline-block; vertical-align: top\">.</span></div></div>"
      ],
      "text/plain": [
       "<IPython.core.display.HTML object>"
      ]
     },
     "metadata": {},
     "output_type": "display_data"
    },
    {
     "name": "stdout",
     "output_type": "stream",
     "text": [
      "-----------------------------------\n"
     ]
    }
   ],
   "source": [
    "from el_toolkit.document import Document\n",
    "from el_toolkit.lkb.lexical_knowledge_base import Lexical_Knowledge_Base\n",
    "from transformers import BertTokenizer\n",
    "\n",
    "\n",
    "lkb = Lexical_Knowledge_Base.read_json(\"data/knowledge_datasets/mesh_subset.json\")\n",
    "\n",
    "biomed_tokenizer = BertTokenizer.from_pretrained(pretrained_model_name_or_path='monologg/biobert_v1.1_pubmed',\n",
    "                                            do_lower_case=False, cache_dir=None)\n",
    "                                            \n",
    "doc = Document.read_json(\"/Users/coltonflowers/Work/TREND_repos/BioMedical-EL/tests/test_data/test_docs/without_overlaps/14_mentions.json\")\n",
    "doc.jupyter_display(lkb)\n",
    "for doc in doc.segment(biomed_tokenizer,8):\n",
    "  doc.jupyter_display(lkb)\n",
    "  print(\"-----------------------------------\")"
   ]
  },
  {
   "cell_type": "code",
   "execution_count": 5,
   "metadata": {},
   "outputs": [],
   "source": [
    "from el_toolkit.entity_linkers.dual_embedder.featurizer import DualEmbedderTrainFeaturizer\n",
    "from el_toolkit.entity_linkers.dual_embedder.entity_linker import BertConceptEmbedder,DocumentEmbedder,DualEmbedderEntityLinker\n",
    "\n",
    "concept_embedder = BertConceptEmbedder(lkb,model=None,tokenizer=biomed_tokenizer,max_seq_len=256)\n",
    "document_embedder = DocumentEmbedder(model=None,tokenizer = biomed_tokenizer,max_seq_len=256)\n",
    "dual_embedder = DualEmbedderEntityLinker(concept_embedder,document_embedder)\n",
    "featurizer = DualEmbedderTrainFeaturizer(dual_embedder,lkb=lkb,num_hard_negatives=0,num_random_negatives=8,num_max_mentions=8)\n"
   ]
  },
  {
   "cell_type": "code",
   "execution_count": 40,
   "metadata": {},
   "outputs": [],
   "source": [
    "\n",
    "from el_toolkit.document import Document\n",
    "doc = Document.read_json(\"/Users/coltonflowers/Work/TREND_repos/BioMedical-EL/tests/test_data/test_docs/without_overlaps/14_mentions.json\")\n",
    "doc_tokens,doc_tokens_mask,mention_start_markers,mention_end_markers,sequence_tags,too_long = document_embedder.encode_document(doc)"
   ]
  },
  {
   "cell_type": "code",
   "execution_count": null,
   "metadata": {},
   "outputs": [],
   "source": []
  },
  {
   "cell_type": "code",
   "execution_count": 3,
   "metadata": {},
   "outputs": [
    {
     "name": "stdout",
     "output_type": "stream",
     "text": [
      "Mentions Omitted: 0\n"
     ]
    },
    {
     "ename": "UnboundLocalError",
     "evalue": "local variable 'bio_tags' referenced before assignment",
     "output_type": "error",
     "traceback": [
      "\u001b[0;31m---------------------------------------------------------------------------\u001b[0m",
      "\u001b[0;31mUnboundLocalError\u001b[0m                         Traceback (most recent call last)",
      "Input \u001b[0;32mIn [3]\u001b[0m, in \u001b[0;36m<module>\u001b[0;34m\u001b[0m\n\u001b[1;32m      1\u001b[0m docs \u001b[39m=\u001b[39m doc\u001b[39m.\u001b[39msegment(biomed_tokenizer,\u001b[39m8\u001b[39m)\n\u001b[0;32m----> 2\u001b[0m dataset \u001b[39m=\u001b[39m featurizer\u001b[39m.\u001b[39;49mfeaturize(docs)\n",
      "File \u001b[0;32m~/Work/TREND_repos/BioMedical-EL/el_toolkit/entity_linkers/dual_encoder/featurizer.py:16\u001b[0m, in \u001b[0;36mDualEmbedderFeaturizer.featurize\u001b[0;34m(self, docs)\u001b[0m\n\u001b[1;32m     <a href='file:///~/Work/TREND_repos/BioMedical-EL/el_toolkit/entity_linkers/dual_encoder/featurizer.py?line=13'>14</a>\u001b[0m \u001b[39mif\u001b[39;00m \u001b[39mself\u001b[39m\u001b[39m.\u001b[39m_hvd:\u001b[39m#distributed\u001b[39;00m\n\u001b[1;32m     <a href='file:///~/Work/TREND_repos/BioMedical-EL/el_toolkit/entity_linkers/dual_encoder/featurizer.py?line=14'>15</a>\u001b[0m     docs \u001b[39m=\u001b[39m partition(docs,\u001b[39mself\u001b[39m\u001b[39m.\u001b[39m_hvd\u001b[39m.\u001b[39msize(),\u001b[39mself\u001b[39m\u001b[39m.\u001b[39m_hvd\u001b[39m.\u001b[39mrank())\n\u001b[0;32m---> <a href='file:///~/Work/TREND_repos/BioMedical-EL/el_toolkit/entity_linkers/dual_encoder/featurizer.py?line=15'>16</a>\u001b[0m features \u001b[39m=\u001b[39m [\u001b[39mself\u001b[39m\u001b[39m.\u001b[39mfeaturize_doc(doc) \u001b[39mfor\u001b[39;00m doc \u001b[39min\u001b[39;00m docs]\n\u001b[1;32m     <a href='file:///~/Work/TREND_repos/BioMedical-EL/el_toolkit/entity_linkers/dual_encoder/featurizer.py?line=16'>17</a>\u001b[0m \u001b[39mif\u001b[39;00m \u001b[39mself\u001b[39m\u001b[39m.\u001b[39m_hvd:\n\u001b[1;32m     <a href='file:///~/Work/TREND_repos/BioMedical-EL/el_toolkit/entity_linkers/dual_encoder/featurizer.py?line=17'>18</a>\u001b[0m     features \u001b[39m=\u001b[39m \u001b[39mself\u001b[39m\u001b[39m.\u001b[39m_hvd\u001b[39m.\u001b[39mall_gather(features)\u001b[39m#list of input_features objects\u001b[39;00m\n",
      "File \u001b[0;32m~/Work/TREND_repos/BioMedical-EL/el_toolkit/entity_linkers/dual_encoder/featurizer.py:16\u001b[0m, in \u001b[0;36m<listcomp>\u001b[0;34m(.0)\u001b[0m\n\u001b[1;32m     <a href='file:///~/Work/TREND_repos/BioMedical-EL/el_toolkit/entity_linkers/dual_encoder/featurizer.py?line=13'>14</a>\u001b[0m \u001b[39mif\u001b[39;00m \u001b[39mself\u001b[39m\u001b[39m.\u001b[39m_hvd:\u001b[39m#distributed\u001b[39;00m\n\u001b[1;32m     <a href='file:///~/Work/TREND_repos/BioMedical-EL/el_toolkit/entity_linkers/dual_encoder/featurizer.py?line=14'>15</a>\u001b[0m     docs \u001b[39m=\u001b[39m partition(docs,\u001b[39mself\u001b[39m\u001b[39m.\u001b[39m_hvd\u001b[39m.\u001b[39msize(),\u001b[39mself\u001b[39m\u001b[39m.\u001b[39m_hvd\u001b[39m.\u001b[39mrank())\n\u001b[0;32m---> <a href='file:///~/Work/TREND_repos/BioMedical-EL/el_toolkit/entity_linkers/dual_encoder/featurizer.py?line=15'>16</a>\u001b[0m features \u001b[39m=\u001b[39m [\u001b[39mself\u001b[39;49m\u001b[39m.\u001b[39;49mfeaturize_doc(doc) \u001b[39mfor\u001b[39;00m doc \u001b[39min\u001b[39;00m docs]\n\u001b[1;32m     <a href='file:///~/Work/TREND_repos/BioMedical-EL/el_toolkit/entity_linkers/dual_encoder/featurizer.py?line=16'>17</a>\u001b[0m \u001b[39mif\u001b[39;00m \u001b[39mself\u001b[39m\u001b[39m.\u001b[39m_hvd:\n\u001b[1;32m     <a href='file:///~/Work/TREND_repos/BioMedical-EL/el_toolkit/entity_linkers/dual_encoder/featurizer.py?line=17'>18</a>\u001b[0m     features \u001b[39m=\u001b[39m \u001b[39mself\u001b[39m\u001b[39m.\u001b[39m_hvd\u001b[39m.\u001b[39mall_gather(features)\u001b[39m#list of input_features objects\u001b[39;00m\n",
      "File \u001b[0;32m~/Work/TREND_repos/BioMedical-EL/el_toolkit/entity_linkers/dual_encoder/featurizer.py:52\u001b[0m, in \u001b[0;36mDualEmbedderTrainFeaturizer.featurize_doc\u001b[0;34m(self, doc)\u001b[0m\n\u001b[1;32m     <a href='file:///~/Work/TREND_repos/BioMedical-EL/el_toolkit/entity_linkers/dual_encoder/featurizer.py?line=49'>50</a>\u001b[0m \u001b[39mdef\u001b[39;00m \u001b[39mfeaturize_doc\u001b[39m(\u001b[39mself\u001b[39m,doc):\n\u001b[1;32m     <a href='file:///~/Work/TREND_repos/BioMedical-EL/el_toolkit/entity_linkers/dual_encoder/featurizer.py?line=50'>51</a>\u001b[0m     num_mentions \u001b[39m=\u001b[39m \u001b[39mlen\u001b[39m(doc\u001b[39m.\u001b[39mmentions)\n\u001b[0;32m---> <a href='file:///~/Work/TREND_repos/BioMedical-EL/el_toolkit/entity_linkers/dual_encoder/featurizer.py?line=51'>52</a>\u001b[0m     doc_token_ids,doc_token_mask,mention_start_indices,mention_end_indices,seq_tag_ids,too_long  \u001b[39m=\u001b[39m \u001b[39mself\u001b[39;49m\u001b[39m.\u001b[39;49m_dual_embedder\u001b[39m.\u001b[39;49mdocument_embedder\u001b[39m.\u001b[39;49mencode_document(doc)\n\u001b[1;32m     <a href='file:///~/Work/TREND_repos/BioMedical-EL/el_toolkit/entity_linkers/dual_encoder/featurizer.py?line=52'>53</a>\u001b[0m     candidate_id_lists \u001b[39m=\u001b[39m [[mention\u001b[39m.\u001b[39mconcept_id] \u001b[39mfor\u001b[39;00m mention \u001b[39min\u001b[39;00m doc\u001b[39m.\u001b[39mmentions]\n\u001b[1;32m     <a href='file:///~/Work/TREND_repos/BioMedical-EL/el_toolkit/entity_linkers/dual_encoder/featurizer.py?line=53'>54</a>\u001b[0m     \u001b[39mif\u001b[39;00m \u001b[39mself\u001b[39m\u001b[39m.\u001b[39m_num_random_negatives:\n",
      "File \u001b[0;32m~/Work/TREND_repos/BioMedical-EL/el_toolkit/entity_linkers/dual_encoder/entity_linker.py:244\u001b[0m, in \u001b[0;36mDocumentEmbedder.encode_document\u001b[0;34m(self, doc)\u001b[0m\n\u001b[1;32m    <a href='file:///~/Work/TREND_repos/BioMedical-EL/el_toolkit/entity_linkers/dual_encoder/entity_linker.py?line=241'>242</a>\u001b[0m too_long \u001b[39m=\u001b[39m \u001b[39mlen\u001b[39m(tokenized_text) \u001b[39m>\u001b[39m \u001b[39mself\u001b[39m\u001b[39m.\u001b[39m_max_seq_len\n\u001b[1;32m    <a href='file:///~/Work/TREND_repos/BioMedical-EL/el_toolkit/entity_linkers/dual_encoder/entity_linker.py?line=242'>243</a>\u001b[0m doc_tokens,doc_tokens_mask \u001b[39m=\u001b[39m truncate(tokenized_text,\u001b[39mself\u001b[39m\u001b[39m.\u001b[39m_tokenizer\u001b[39m.\u001b[39mpad_token_id,\u001b[39mself\u001b[39m\u001b[39m.\u001b[39m_max_seq_len)\n\u001b[0;32m--> <a href='file:///~/Work/TREND_repos/BioMedical-EL/el_toolkit/entity_linkers/dual_encoder/entity_linker.py?line=243'>244</a>\u001b[0m bio_tags,_ \u001b[39m=\u001b[39m truncate(bio_tags,\u001b[39m-\u001b[39m\u001b[39m100\u001b[39m,\u001b[39mself\u001b[39m\u001b[39m.\u001b[39m_max_seq_length)\n\u001b[1;32m    <a href='file:///~/Work/TREND_repos/BioMedical-EL/el_toolkit/entity_linkers/dual_encoder/entity_linker.py?line=244'>245</a>\u001b[0m \u001b[39mreturn\u001b[39;00m doc_tokens,doc_tokens_mask,mention_start_markers,mention_end_markers,sequence_tags,too_long\n",
      "\u001b[0;31mUnboundLocalError\u001b[0m: local variable 'bio_tags' referenced before assignment"
     ]
    }
   ],
   "source": [
    "docs = doc.segment(biomed_tokenizer,8)\n",
    "dataset = featurizer.featurize(docs)"
   ]
  },
  {
   "cell_type": "code",
   "execution_count": null,
   "metadata": {},
   "outputs": [],
   "source": []
  }
 ],
 "metadata": {
  "interpreter": {
   "hash": "af92f991aa0b26b1adc7f2eb5be811ea3ded4d7855b3e81fbf5a6cf06c0d3a1e"
  },
  "kernelspec": {
   "display_name": "Python 3.8.12 64-bit ('notebook': conda)",
   "name": "python3"
  },
  "language_info": {
   "codemirror_mode": {
    "name": "ipython",
    "version": 3
   },
   "file_extension": ".py",
   "mimetype": "text/x-python",
   "name": "python",
   "nbconvert_exporter": "python",
   "pygments_lexer": "ipython3",
   "version": "3.8.12"
  },
  "orig_nbformat": 4
 },
 "nbformat": 4,
 "nbformat_minor": 2
}
