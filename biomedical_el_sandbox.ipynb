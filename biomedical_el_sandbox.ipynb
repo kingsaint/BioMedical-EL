{
 "cells": [
  {
   "cell_type": "code",
   "execution_count": 1,
   "metadata": {},
   "outputs": [
    {
     "data": {
      "text/html": [
       "<div class=\"tex2jax_ignore\" style=\"white-space: pre-wrap\"><div><span style=\"display: inline-block; vertical-align: top\">Diffuse skeletal </span><span style=\"display: inline-block; vertical-align: top; position: relative; margin-bottom: 11px\"><span style=\"border-bottom: 3px solid #b39ddb; padding-bottom: 8px\">pain</span><span style=\"font-size: 11px; line-height: 1; white-space: nowrap; text-shadow: 1px 1px 0px white; position: absolute; left: 0; bottom: -8px\">Pain</span></span><span style=\"display: inline-block; vertical-align: top\"> after administration of </span><span style=\"display: inline-block; vertical-align: top; position: relative; margin-bottom: 11px\"><span style=\"border-bottom: 3px solid #bcaaa4; padding-bottom: 8px\">alendronate</span><span style=\"font-size: 11px; line-height: 1; white-space: nowrap; text-shadow: 1px 1px 0px white; position: absolute; left: 0; bottom: -8px\">Alendronate</span></span><span style=\"display: inline-block; vertical-align: top\">. BACKGROUND: </span></div><div><span style=\"display: inline-block; vertical-align: top\"></span><span style=\"display: inline-block; vertical-align: top; position: relative; margin-bottom: 11px\"><span style=\"border-bottom: 3px solid #90caf9; padding-bottom: 8px\">Osteoporosis</span><span style=\"font-size: 11px; line-height: 1; white-space: nowrap; text-shadow: 1px 1px 0px white; position: absolute; left: 0; bottom: -8px\">Osteoporosis</span></span><span style=\"display: inline-block; vertical-align: top\"> is caused by bone resorption in excess of bone formation, and </span></div><div><span style=\"display: inline-block; vertical-align: top\"></span><span style=\"display: inline-block; vertical-align: top; position: relative; margin-bottom: 11px\"><span style=\"border-bottom: 3px solid #a5d6a7; padding-bottom: 8px\">bisphosphonates</span><span style=\"font-size: 11px; line-height: 1; white-space: nowrap; text-shadow: 1px 1px 0px white; position: absolute; left: 0; bottom: -8px\">Diphosphonates</span></span><span style=\"display: inline-block; vertical-align: top\">, are used to inhibit bone resorption. </span><span style=\"display: inline-block; vertical-align: top; position: relative; margin-bottom: 11px\"><span style=\"border-bottom: 3px solid #bcaaa4; padding-bottom: 8px\">Alendronate</span><span style=\"font-size: 11px; line-height: 1; white-space: nowrap; text-shadow: 1px 1px 0px white; position: absolute; left: 0; bottom: -8px\">Alendronate</span></span><span style=\"display: inline-block; vertical-align: top\">, a </span></div><div><span style=\"display: inline-block; vertical-align: top\">biphosphonate, is effective for both the treatment and prevention of </span></div><div><span style=\"display: inline-block; vertical-align: top\"></span><span style=\"display: inline-block; vertical-align: top; position: relative; margin-bottom: 11px\"><span style=\"border-bottom: 3px solid #90caf9; padding-bottom: 8px\">osteoporosis</span><span style=\"font-size: 11px; line-height: 1; white-space: nowrap; text-shadow: 1px 1px 0px white; position: absolute; left: 0; bottom: -8px\">Osteoporosis</span></span><span style=\"display: inline-block; vertical-align: top\"> in postmenopausal women. Side effects are relatively few and </span></div><div><span style=\"display: inline-block; vertical-align: top\">prominently gastrointestinal. </span><span style=\"display: inline-block; vertical-align: top; position: relative; margin-bottom: 11px\"><span style=\"border-bottom: 3px solid #ef9a9a; padding-bottom: 8px\">Musculoskeletal pain</span><span style=\"font-size: 11px; line-height: 1; white-space: nowrap; text-shadow: 1px 1px 0px white; position: absolute; left: 0; bottom: -8px\">Musculoskeletal Pain</span></span><span style=\"display: inline-block; vertical-align: top\"> may be an important side </span></div><div><span style=\"display: inline-block; vertical-align: top\">effect in these patients. We presented a patient admitted to our out-patient </span></div><div><span style=\"display: inline-block; vertical-align: top\">clinic with diffuse skeletal </span><span style=\"display: inline-block; vertical-align: top; position: relative; margin-bottom: 11px\"><span style=\"border-bottom: 3px solid #b39ddb; padding-bottom: 8px\">pain</span><span style=\"font-size: 11px; line-height: 1; white-space: nowrap; text-shadow: 1px 1px 0px white; position: absolute; left: 0; bottom: -8px\">Pain</span></span><span style=\"display: inline-block; vertical-align: top\"> after three consecutive administration of </span></div><div><span style=\"display: inline-block; vertical-align: top\"></span><span style=\"display: inline-block; vertical-align: top; position: relative; margin-bottom: 11px\"><span style=\"border-bottom: 3px solid #bcaaa4; padding-bottom: 8px\">alendronate</span><span style=\"font-size: 11px; line-height: 1; white-space: nowrap; text-shadow: 1px 1px 0px white; position: absolute; left: 0; bottom: -8px\">Alendronate</span></span><span style=\"display: inline-block; vertical-align: top\">. CONCLUSION: We conclude that patients with </span><span style=\"display: inline-block; vertical-align: top; position: relative; margin-bottom: 11px\"><span style=\"border-bottom: 3px solid #90caf9; padding-bottom: 8px\">osteoporosis</span><span style=\"font-size: 11px; line-height: 1; white-space: nowrap; text-shadow: 1px 1px 0px white; position: absolute; left: 0; bottom: -8px\">Osteoporosis</span></span><span style=\"display: inline-block; vertical-align: top\"> can report </span></div><div><span style=\"display: inline-block; vertical-align: top\"></span><span style=\"display: inline-block; vertical-align: top; position: relative; margin-bottom: 11px\"><span style=\"border-bottom: 3px solid #b39ddb; padding-bottom: 8px\">pain</span><span style=\"font-size: 11px; line-height: 1; white-space: nowrap; text-shadow: 1px 1px 0px white; position: absolute; left: 0; bottom: -8px\">Pain</span></span><span style=\"display: inline-block; vertical-align: top\">, and </span><span style=\"display: inline-block; vertical-align: top; position: relative; margin-bottom: 11px\"><span style=\"border-bottom: 3px solid #a5d6a7; padding-bottom: 8px\">bisphosphonate</span><span style=\"font-size: 11px; line-height: 1; white-space: nowrap; text-shadow: 1px 1px 0px white; position: absolute; left: 0; bottom: -8px\">Diphosphonates</span></span><span style=\"display: inline-block; vertical-align: top\">-related </span><span style=\"display: inline-block; vertical-align: top; position: relative; margin-bottom: 11px\"><span style=\"border-bottom: 3px solid #b39ddb; padding-bottom: 8px\">pain</span><span style=\"font-size: 11px; line-height: 1; white-space: nowrap; text-shadow: 1px 1px 0px white; position: absolute; left: 0; bottom: -8px\">Pain</span></span><span style=\"display: inline-block; vertical-align: top\"> should also be considered before ascribing</span></div><div><span style=\"display: inline-block; vertical-align: top\"> this complaint to </span><span style=\"display: inline-block; vertical-align: top; position: relative; margin-bottom: 11px\"><span style=\"border-bottom: 3px solid #90caf9; padding-bottom: 8px\">osteoporosis</span><span style=\"font-size: 11px; line-height: 1; white-space: nowrap; text-shadow: 1px 1px 0px white; position: absolute; left: 0; bottom: -8px\">Osteoporosis</span></span><span style=\"display: inline-block; vertical-align: top\">.</span></div></div>"
      ],
      "text/plain": [
       "<IPython.core.display.HTML object>"
      ]
     },
     "metadata": {},
     "output_type": "display_data"
    },
    {
     "name": "stdout",
     "output_type": "stream",
     "text": [
      "Mentions Omitted: 0\n"
     ]
    },
    {
     "data": {
      "text/html": [
       "<div class=\"tex2jax_ignore\" style=\"white-space: pre-wrap\"><div><span style=\"display: inline-block; vertical-align: top\">Diffuse skeletal </span><span style=\"display: inline-block; vertical-align: top; position: relative; margin-bottom: 11px\"><span style=\"border-bottom: 3px solid #b39ddb; padding-bottom: 8px\">pain</span><span style=\"font-size: 11px; line-height: 1; white-space: nowrap; text-shadow: 1px 1px 0px white; position: absolute; left: 0; bottom: -8px\">Pain</span></span><span style=\"display: inline-block; vertical-align: top\"> after administration of </span><span style=\"display: inline-block; vertical-align: top; position: relative; margin-bottom: 11px\"><span style=\"border-bottom: 3px solid #bcaaa4; padding-bottom: 8px\">alendronate</span><span style=\"font-size: 11px; line-height: 1; white-space: nowrap; text-shadow: 1px 1px 0px white; position: absolute; left: 0; bottom: -8px\">Alendronate</span></span><span style=\"display: inline-block; vertical-align: top\">. BACKGROUND: </span></div><div><span style=\"display: inline-block; vertical-align: top\"></span><span style=\"display: inline-block; vertical-align: top; position: relative; margin-bottom: 11px\"><span style=\"border-bottom: 3px solid #90caf9; padding-bottom: 8px\">Osteoporosis</span><span style=\"font-size: 11px; line-height: 1; white-space: nowrap; text-shadow: 1px 1px 0px white; position: absolute; left: 0; bottom: -8px\">Osteoporosis</span></span><span style=\"display: inline-block; vertical-align: top\"> is caused by bone resorption in excess of bone formation, and </span></div><div><span style=\"display: inline-block; vertical-align: top\"></span><span style=\"display: inline-block; vertical-align: top; position: relative; margin-bottom: 11px\"><span style=\"border-bottom: 3px solid #a5d6a7; padding-bottom: 8px\">bisphosphonates</span><span style=\"font-size: 11px; line-height: 1; white-space: nowrap; text-shadow: 1px 1px 0px white; position: absolute; left: 0; bottom: -8px\">Diphosphonates</span></span><span style=\"display: inline-block; vertical-align: top\">, are used to inhibit bone resorption. </span><span style=\"display: inline-block; vertical-align: top; position: relative; margin-bottom: 11px\"><span style=\"border-bottom: 3px solid #bcaaa4; padding-bottom: 8px\">Alendronate</span><span style=\"font-size: 11px; line-height: 1; white-space: nowrap; text-shadow: 1px 1px 0px white; position: absolute; left: 0; bottom: -8px\">Alendronate</span></span><span style=\"display: inline-block; vertical-align: top\">, a </span></div><div><span style=\"display: inline-block; vertical-align: top\">biphosphonate, is effective for both the treatment and prevention of </span></div><div><span style=\"display: inline-block; vertical-align: top\"></span><span style=\"display: inline-block; vertical-align: top; position: relative; margin-bottom: 11px\"><span style=\"border-bottom: 3px solid #90caf9; padding-bottom: 8px\">osteoporosis</span><span style=\"font-size: 11px; line-height: 1; white-space: nowrap; text-shadow: 1px 1px 0px white; position: absolute; left: 0; bottom: -8px\">Osteoporosis</span></span><span style=\"display: inline-block; vertical-align: top\"> in postmenopausal women. Side effects are relatively few and </span></div><div><span style=\"display: inline-block; vertical-align: top\">prominently gastrointestinal. </span><span style=\"display: inline-block; vertical-align: top; position: relative; margin-bottom: 11px\"><span style=\"border-bottom: 3px solid #ef9a9a; padding-bottom: 8px\">Musculoskeletal pain</span><span style=\"font-size: 11px; line-height: 1; white-space: nowrap; text-shadow: 1px 1px 0px white; position: absolute; left: 0; bottom: -8px\">Musculoskeletal Pain</span></span><span style=\"display: inline-block; vertical-align: top\"> may be an important side </span></div><div><span style=\"display: inline-block; vertical-align: top\">effect in these patients. We presented a patient admitted to our out-patient </span></div><div><span style=\"display: inline-block; vertical-align: top\">clinic with diffuse skeletal </span><span style=\"display: inline-block; vertical-align: top; position: relative; margin-bottom: 11px\"><span style=\"border-bottom: 3px solid #b39ddb; padding-bottom: 8px\">pain</span><span style=\"font-size: 11px; line-height: 1; white-space: nowrap; text-shadow: 1px 1px 0px white; position: absolute; left: 0; bottom: -8px\">Pain</span></span><span style=\"display: inline-block; vertical-align: top\"></span></div></div>"
      ],
      "text/plain": [
       "<IPython.core.display.HTML object>"
      ]
     },
     "metadata": {},
     "output_type": "display_data"
    },
    {
     "name": "stdout",
     "output_type": "stream",
     "text": [
      "-----------------------------------\n"
     ]
    },
    {
     "data": {
      "text/html": [
       "<div class=\"tex2jax_ignore\" style=\"white-space: pre-wrap\"><div><span style=\"display: inline-block; vertical-align: top\"> after three consecutive administration of </span><span style=\"display: inline-block; vertical-align: top; position: relative; margin-bottom: 11px\"><span style=\"border-bottom: 3px solid #bcaaa4; padding-bottom: 8px\">alendronate</span><span style=\"font-size: 11px; line-height: 1; white-space: nowrap; text-shadow: 1px 1px 0px white; position: absolute; left: 0; bottom: -8px\">Alendronate</span></span><span style=\"display: inline-block; vertical-align: top\">. CONCLUSION: We conclude </span></div><div><span style=\"display: inline-block; vertical-align: top\">that patients with </span><span style=\"display: inline-block; vertical-align: top; position: relative; margin-bottom: 11px\"><span style=\"border-bottom: 3px solid #90caf9; padding-bottom: 8px\">osteoporosis</span><span style=\"font-size: 11px; line-height: 1; white-space: nowrap; text-shadow: 1px 1px 0px white; position: absolute; left: 0; bottom: -8px\">Osteoporosis</span></span><span style=\"display: inline-block; vertical-align: top\"> can report </span><span style=\"display: inline-block; vertical-align: top; position: relative; margin-bottom: 11px\"><span style=\"border-bottom: 3px solid #b39ddb; padding-bottom: 8px\">pain</span><span style=\"font-size: 11px; line-height: 1; white-space: nowrap; text-shadow: 1px 1px 0px white; position: absolute; left: 0; bottom: -8px\">Pain</span></span><span style=\"display: inline-block; vertical-align: top\">, and </span><span style=\"display: inline-block; vertical-align: top; position: relative; margin-bottom: 11px\"><span style=\"border-bottom: 3px solid #a5d6a7; padding-bottom: 8px\">bisphosphonate</span><span style=\"font-size: 11px; line-height: 1; white-space: nowrap; text-shadow: 1px 1px 0px white; position: absolute; left: 0; bottom: -8px\">Diphosphonates</span></span><span style=\"display: inline-block; vertical-align: top\">-related </span><span style=\"display: inline-block; vertical-align: top; position: relative; margin-bottom: 11px\"><span style=\"border-bottom: 3px solid #b39ddb; padding-bottom: 8px\">pain</span><span style=\"font-size: 11px; line-height: 1; white-space: nowrap; text-shadow: 1px 1px 0px white; position: absolute; left: 0; bottom: -8px\">Pain</span></span><span style=\"display: inline-block; vertical-align: top\"></span></div><div><span style=\"display: inline-block; vertical-align: top\"> should also be considered before ascribing this complaint to </span><span style=\"display: inline-block; vertical-align: top; position: relative; margin-bottom: 11px\"><span style=\"border-bottom: 3px solid #90caf9; padding-bottom: 8px\">osteoporosis</span><span style=\"font-size: 11px; line-height: 1; white-space: nowrap; text-shadow: 1px 1px 0px white; position: absolute; left: 0; bottom: -8px\">Osteoporosis</span></span><span style=\"display: inline-block; vertical-align: top\">.</span></div></div>"
      ],
      "text/plain": [
       "<IPython.core.display.HTML object>"
      ]
     },
     "metadata": {},
     "output_type": "display_data"
    },
    {
     "name": "stdout",
     "output_type": "stream",
     "text": [
      "-----------------------------------\n"
     ]
    }
   ],
   "source": [
    "from el_toolkit.document import Document\n",
    "from el_toolkit.lkb.lexical_knowledge_base import Lexical_Knowledge_Base\n",
    "from transformers import BertTokenizer\n",
    "\n",
    "\n",
    "lkb = Lexical_Knowledge_Base.read_json(\"data/knowledge_datasets/mesh_subset.json\")\n",
    "\n",
    "biomed_tokenizer = BertTokenizer.from_pretrained(pretrained_model_name_or_path='monologg/biobert_v1.1_pubmed',\n",
    "                                            do_lower_case=False, cache_dir=None)\n",
    "                                            \n",
    "doc = Document.read_json(\"/Users/coltonflowers/Work/TREND_repos/BioMedical-EL/tests/test_data/test_docs/without_overlaps/14_mentions.json\")\n",
    "doc.jupyter_display(lkb)\n",
    "for segmented_doc in doc.segment(biomed_tokenizer,8):\n",
    "  segmented_doc.jupyter_display(lkb)\n",
    "  print(\"-----------------------------------\")"
   ]
  },
  {
   "cell_type": "code",
   "execution_count": 2,
   "metadata": {},
   "outputs": [
    {
     "name": "stderr",
     "output_type": "stream",
     "text": [
      "Some weights of the model checkpoint at monologg/biobert_v1.1_pubmed were not used when initializing BertModel: ['cls.predictions.transform.LayerNorm.weight', 'cls.seq_relationship.weight', 'cls.predictions.transform.LayerNorm.bias', 'cls.predictions.decoder.weight', 'cls.predictions.bias', 'cls.predictions.transform.dense.bias', 'cls.predictions.transform.dense.weight', 'cls.seq_relationship.bias']\n",
      "- This IS expected if you are initializing BertModel from the checkpoint of a model trained on another task or with another architecture (e.g. initializing a BertForSequenceClassification model from a BertForPreTraining model).\n",
      "- This IS NOT expected if you are initializing BertModel from the checkpoint of a model that you expect to be exactly identical (initializing a BertForSequenceClassification model from a BertForSequenceClassification model).\n"
     ]
    }
   ],
   "source": [
    "from el_toolkit.entity_linkers.dual_embedder.featurizer import BertDualEmbedderTrainFeaturizer\n",
    "from el_toolkit.entity_linkers.dual_embedder.concept_embedder import BertConceptEmbedder\n",
    "from el_toolkit.entity_linkers.dual_embedder.document_embedder import DocumentEmbedder\n",
    "from el_toolkit.entity_linkers.dual_embedder.entity_linker import DualEmbedderEntityLinker\n",
    "from el_toolkit.entity_linkers.dual_embedder.model import BertMentionDetectorModel\n",
    "from el_toolkit.entity_linkers.dual_embedder.model import BertDualEmbedderModel\n",
    "from transformers import BertModel\n",
    "import copy\n",
    "\n",
    "bert_mention = BertModel.from_pretrained(\"monologg/biobert_v1.1_pubmed\")\n",
    "bert_candidate = copy.deepcopy(bert_mention)\n",
    "concept_embedder = BertConceptEmbedder(lkb,bert_model=bert_mention,tokenizer=biomed_tokenizer,max_seq_len=256)\n",
    "span_detector = BertMentionDetectorModel(bert_mention)\n",
    "document_embedder = DocumentEmbedder(span_detector=span_detector,tokenizer=biomed_tokenizer,max_seq_len=256)\n",
    "dual_embedder_model = BertDualEmbedderModel(bert_candidate,bert_mention)\n",
    "dual_embedder = DualEmbedderEntityLinker(concept_embedder,document_embedder,dual_embedder_model)\n",
    "featurizer = BertDualEmbedderTrainFeaturizer(lkb,dual_embedder)"
   ]
  },
  {
   "cell_type": "code",
   "execution_count": 3,
   "metadata": {},
   "outputs": [
    {
     "data": {
      "text/plain": [
       "doc_id:14_mentions\n",
       "--------------------\n",
       "message:Diffuse skeletal pain after administration of alendronate. BACKGROUND: Osteoporosis is caused by bone resorption in excess of bone formation, and bisphosphonates, are used to inhibit bone resorption. Alendronate, a biphosphonate, is effective for both the treatment and prevention of osteoporosis in postmenopausal women. Side effects are relatively few and prominently gastrointestinal. Musculoskeletal pain may be an important side effect in these patients. We presented a patient admitted to our out-patient clinic with diffuse skeletal pain after three consecutive administration of alendronate. CONCLUSION: We conclude that patients with osteoporosis can report pain, and bisphosphonate-related pain should also be considered before ascribing this complaint to osteoporosis.\n",
       "--------------------\n",
       "mentions:[{'start_index': 17, 'end_index': 21, 'concept_id': 'D010146', 'text': 'pain'}, {'start_index': 46, 'end_index': 57, 'concept_id': 'D019386', 'text': 'alendronate'}, {'start_index': 71, 'end_index': 83, 'concept_id': 'D010024', 'text': 'Osteoporosis'}, {'start_index': 146, 'end_index': 161, 'concept_id': 'D004164', 'text': 'bisphosphonates'}, {'start_index': 200, 'end_index': 211, 'concept_id': 'D019386', 'text': 'Alendronate'}, {'start_index': 284, 'end_index': 296, 'concept_id': 'D010024', 'text': 'osteoporosis'}, {'start_index': 388, 'end_index': 408, 'concept_id': 'D059352', 'text': 'Musculoskeletal pain'}, {'start_index': 540, 'end_index': 544, 'concept_id': 'D010146', 'text': 'pain'}, {'start_index': 587, 'end_index': 598, 'concept_id': 'D019386', 'text': 'alendronate'}, {'start_index': 643, 'end_index': 655, 'concept_id': 'D010024', 'text': 'osteoporosis'}, {'start_index': 667, 'end_index': 671, 'concept_id': 'D010146', 'text': 'pain'}, {'start_index': 677, 'end_index': 691, 'concept_id': 'D004164', 'text': 'bisphosphonate'}, {'start_index': 700, 'end_index': 704, 'concept_id': 'D010146', 'text': 'pain'}, {'start_index': 766, 'end_index': 778, 'concept_id': 'D010024', 'text': 'osteoporosis'}]"
      ]
     },
     "execution_count": 3,
     "metadata": {},
     "output_type": "execute_result"
    }
   ],
   "source": [
    "doc"
   ]
  },
  {
   "cell_type": "code",
   "execution_count": 4,
   "metadata": {},
   "outputs": [
    {
     "data": {
      "text/plain": [
       "('doc_token_ids',\n",
       " 'doc_token_masks',\n",
       " 'mention_start_indices',\n",
       " 'mention_end_indices',\n",
       " 'label_ids',\n",
       " 'num_mentions',\n",
       " 'candidate_token_ids',\n",
       " 'candidate_token_masks',\n",
       " 'candidate_masks')"
      ]
     },
     "execution_count": 4,
     "metadata": {},
     "output_type": "execute_result"
    }
   ],
   "source": [
    "featurizer.TrainingInputFeatures._fields"
   ]
  },
  {
   "cell_type": "markdown",
   "metadata": {},
   "source": []
  },
  {
   "cell_type": "code",
   "execution_count": 5,
   "metadata": {},
   "outputs": [
    {
     "name": "stdout",
     "output_type": "stream",
     "text": [
      "Mentions Omitted: 0\n"
     ]
    },
    {
     "name": "stderr",
     "output_type": "stream",
     "text": [
      "/Users/coltonflowers/Work/TREND_repos/BioMedical-EL/el_toolkit/entity_linkers/dual_embedder/model.py:178: UserWarning: __rfloordiv__ is deprecated, and its behavior will change in a future version of pytorch. It currently rounds toward 0 (like the 'trunc' function NOT 'floor'). This results in incorrect rounding for negative values. To keep the current behavior, use torch.div(a, b, rounding_mode='trunc'), or for actual floor division, use torch.div(a, b, rounding_mode='floor').\n",
      "  n_c = self.get_number_of_candidates(**kwargs) // num_mentions\n"
     ]
    },
    {
     "name": "stdout",
     "output_type": "stream",
     "text": [
      "torch.Size([8, 768])\n",
      "torch.Size([8, 5, 768])\n"
     ]
    },
    {
     "ename": "RuntimeError",
     "evalue": "shape '[-1, 6, 768]' is invalid for input of size 30720",
     "output_type": "error",
     "traceback": [
      "\u001b[0;31m---------------------------------------------------------------------------\u001b[0m",
      "\u001b[0;31mRuntimeError\u001b[0m                              Traceback (most recent call last)",
      "Input \u001b[0;32mIn [5]\u001b[0m, in \u001b[0;36m<module>\u001b[0;34m\u001b[0m\n\u001b[1;32m      1\u001b[0m docs \u001b[39m=\u001b[39m doc\u001b[39m.\u001b[39msegment(biomed_tokenizer,\u001b[39m8\u001b[39m) \n\u001b[0;32m----> 2\u001b[0m dual_embedder\u001b[39m.\u001b[39;49mtrain(docs,num_random_negatives\u001b[39m=\u001b[39;49m\u001b[39m4\u001b[39;49m)\n",
      "File \u001b[0;32m~/Work/TREND_repos/BioMedical-EL/el_toolkit/entity_linkers/dual_embedder/entity_linker.py:44\u001b[0m, in \u001b[0;36mDualEmbedderEntityLinker.train\u001b[0;34m(self, docs, num_hard_negatives, num_random_negatives, num_max_mentions, batch_size, hvd)\u001b[0m\n\u001b[1;32m     <a href='file:///~/Work/TREND_repos/BioMedical-EL/el_toolkit/entity_linkers/dual_embedder/entity_linker.py?line=41'>42</a>\u001b[0m \u001b[39mfor\u001b[39;00m batch \u001b[39min\u001b[39;00m train_dataloader:\n\u001b[1;32m     <a href='file:///~/Work/TREND_repos/BioMedical-EL/el_toolkit/entity_linkers/dual_embedder/entity_linker.py?line=42'>43</a>\u001b[0m     inputs \u001b[39m=\u001b[39m {field:batch[i] \u001b[39mfor\u001b[39;00m i,field \u001b[39min\u001b[39;00m \u001b[39menumerate\u001b[39m(\u001b[39mself\u001b[39m\u001b[39m.\u001b[39m_train_featurizer\u001b[39m.\u001b[39mTrainingInputFeatures\u001b[39m.\u001b[39m_fields)}\n\u001b[0;32m---> <a href='file:///~/Work/TREND_repos/BioMedical-EL/el_toolkit/entity_linkers/dual_embedder/entity_linker.py?line=43'>44</a>\u001b[0m     \u001b[39mself\u001b[39;49m\u001b[39m.\u001b[39;49m_dual_embedder_model(\u001b[39m*\u001b[39;49m\u001b[39m*\u001b[39;49minputs)\n",
      "File \u001b[0;32m~/opt/anaconda3/envs/notebook/lib/python3.8/site-packages/torch/nn/modules/module.py:1102\u001b[0m, in \u001b[0;36mModule._call_impl\u001b[0;34m(self, *input, **kwargs)\u001b[0m\n\u001b[1;32m   <a href='file:///~/opt/anaconda3/envs/notebook/lib/python3.8/site-packages/torch/nn/modules/module.py?line=1097'>1098</a>\u001b[0m \u001b[39m# If we don't have any hooks, we want to skip the rest of the logic in\u001b[39;00m\n\u001b[1;32m   <a href='file:///~/opt/anaconda3/envs/notebook/lib/python3.8/site-packages/torch/nn/modules/module.py?line=1098'>1099</a>\u001b[0m \u001b[39m# this function, and just call forward.\u001b[39;00m\n\u001b[1;32m   <a href='file:///~/opt/anaconda3/envs/notebook/lib/python3.8/site-packages/torch/nn/modules/module.py?line=1099'>1100</a>\u001b[0m \u001b[39mif\u001b[39;00m \u001b[39mnot\u001b[39;00m (\u001b[39mself\u001b[39m\u001b[39m.\u001b[39m_backward_hooks \u001b[39mor\u001b[39;00m \u001b[39mself\u001b[39m\u001b[39m.\u001b[39m_forward_hooks \u001b[39mor\u001b[39;00m \u001b[39mself\u001b[39m\u001b[39m.\u001b[39m_forward_pre_hooks \u001b[39mor\u001b[39;00m _global_backward_hooks\n\u001b[1;32m   <a href='file:///~/opt/anaconda3/envs/notebook/lib/python3.8/site-packages/torch/nn/modules/module.py?line=1100'>1101</a>\u001b[0m         \u001b[39mor\u001b[39;00m _global_forward_hooks \u001b[39mor\u001b[39;00m _global_forward_pre_hooks):\n\u001b[0;32m-> <a href='file:///~/opt/anaconda3/envs/notebook/lib/python3.8/site-packages/torch/nn/modules/module.py?line=1101'>1102</a>\u001b[0m     \u001b[39mreturn\u001b[39;00m forward_call(\u001b[39m*\u001b[39;49m\u001b[39minput\u001b[39;49m, \u001b[39m*\u001b[39;49m\u001b[39m*\u001b[39;49mkwargs)\n\u001b[1;32m   <a href='file:///~/opt/anaconda3/envs/notebook/lib/python3.8/site-packages/torch/nn/modules/module.py?line=1102'>1103</a>\u001b[0m \u001b[39m# Do not call functions when jit is used\u001b[39;00m\n\u001b[1;32m   <a href='file:///~/opt/anaconda3/envs/notebook/lib/python3.8/site-packages/torch/nn/modules/module.py?line=1103'>1104</a>\u001b[0m full_backward_hooks, non_full_backward_hooks \u001b[39m=\u001b[39m [], []\n",
      "File \u001b[0;32m~/Work/TREND_repos/BioMedical-EL/el_toolkit/entity_linkers/dual_embedder/model.py:179\u001b[0m, in \u001b[0;36mDualEmbedderModel.forward\u001b[0;34m(self, doc_token_ids, doc_token_masks, mention_start_indices, mention_end_indices, num_mentions, all_candidate_embeddings, label_ids, candidate_masks, **kwargs)\u001b[0m\n\u001b[1;32m    <a href='file:///~/Work/TREND_repos/BioMedical-EL/el_toolkit/entity_linkers/dual_embedder/model.py?line=176'>177</a>\u001b[0m pooled_candidate_outputs \u001b[39m=\u001b[39m \u001b[39mself\u001b[39m\u001b[39m.\u001b[39mget_candidate_embeddings(\u001b[39m*\u001b[39m\u001b[39m*\u001b[39mkwargs)\n\u001b[1;32m    <a href='file:///~/Work/TREND_repos/BioMedical-EL/el_toolkit/entity_linkers/dual_embedder/model.py?line=177'>178</a>\u001b[0m n_c \u001b[39m=\u001b[39m \u001b[39mself\u001b[39m\u001b[39m.\u001b[39mget_number_of_candidates(\u001b[39m*\u001b[39m\u001b[39m*\u001b[39mkwargs) \u001b[39m/\u001b[39m\u001b[39m/\u001b[39m num_mentions\n\u001b[0;32m--> <a href='file:///~/Work/TREND_repos/BioMedical-EL/el_toolkit/entity_linkers/dual_embedder/model.py?line=178'>179</a>\u001b[0m candidate_embeddings \u001b[39m=\u001b[39m pooled_candidate_outputs\u001b[39m.\u001b[39;49mreshape(\u001b[39m-\u001b[39;49m\u001b[39m1\u001b[39;49m, n_c, \u001b[39mself\u001b[39;49m\u001b[39m.\u001b[39;49mspan_detector\u001b[39m.\u001b[39;49mhidden_size) \u001b[39m#(B*MN) X C X H\u001b[39;00m\n\u001b[1;32m    <a href='file:///~/Work/TREND_repos/BioMedical-EL/el_toolkit/entity_linkers/dual_embedder/model.py?line=179'>180</a>\u001b[0m linker_logits \u001b[39m=\u001b[39m \u001b[39mself\u001b[39m\u001b[39m.\u001b[39msimilarity_score(mention_embeddings,candidate_embeddings)\u001b[39m#(B*MN) x C\u001b[39;00m\n\u001b[1;32m    <a href='file:///~/Work/TREND_repos/BioMedical-EL/el_toolkit/entity_linkers/dual_embedder/model.py?line=180'>181</a>\u001b[0m candidate_masks \u001b[39m=\u001b[39m candidate_masks\u001b[39m.\u001b[39mreshape(\u001b[39m-\u001b[39m\u001b[39m1\u001b[39m,n_c)\u001b[39m# (B*MN) x C\u001b[39;00m\n",
      "\u001b[0;31mRuntimeError\u001b[0m: shape '[-1, 6, 768]' is invalid for input of size 30720"
     ]
    }
   ],
   "source": [
    "docs = doc.segment(biomed_tokenizer,8) \n",
    "dual_embedder.train(docs,num_random_negatives=4)"
   ]
  },
  {
   "cell_type": "code",
   "execution_count": 8,
   "metadata": {},
   "outputs": [
    {
     "name": "stdout",
     "output_type": "stream",
     "text": [
      "pain,5,5\n",
      "alendronate,9,12\n",
      "Osteoporosis,22,26\n",
      "bisphosphonates,41,45\n",
      "Alendronate,57,60\n",
      "osteoporosis,78,82\n",
      "Musculoskeletal pain,104,110\n",
      "pain,137,137\n",
      "alendronate,6,9\n",
      "osteoporosis,22,26\n",
      "pain,29,29\n",
      "bisphosphonate,32,36\n",
      "pain,39,39\n",
      "osteoporosis,50,54\n"
     ]
    },
    {
     "data": {
      "text/plain": [
       "torch.Size([256])"
      ]
     },
     "execution_count": 8,
     "metadata": {},
     "output_type": "execute_result"
    }
   ],
   "source": [
    "dataset= dual_embedder._train_featurizer.featurize(docs,num_random_negatives=4)\n",
    "dataset[0][0].shape"
   ]
  },
  {
   "cell_type": "code",
   "execution_count": 9,
   "metadata": {},
   "outputs": [
    {
     "data": {
      "text/plain": [
       "tensor([  5,  12,  26,  45,  60,  82, 110, 137])"
      ]
     },
     "execution_count": 9,
     "metadata": {},
     "output_type": "execute_result"
    }
   ],
   "source": [
    "dataset[0][3]"
   ]
  },
  {
   "cell_type": "code",
   "execution_count": 10,
   "metadata": {},
   "outputs": [
    {
     "data": {
      "text/plain": [
       "tensor([  5,   9,  22,  41,  57,  78, 104, 137])"
      ]
     },
     "execution_count": 10,
     "metadata": {},
     "output_type": "execute_result"
    }
   ],
   "source": [
    "dataset[0][2]"
   ]
  },
  {
   "cell_type": "code",
   "execution_count": 25,
   "metadata": {},
   "outputs": [],
   "source": [
    "doc_token_ids,doc_token_mask,mention_start_indices,mention_end_indices,_,_  = dual_embedder.document_embedder.encode_document(doc)"
   ]
  },
  {
   "cell_type": "code",
   "execution_count": 6,
   "metadata": {},
   "outputs": [],
   "source": [
    "lkb = Lexical_Knowledge_Base.read_json(\"data/knowledge_datasets/trend.json\")"
   ]
  },
  {
   "cell_type": "code",
   "execution_count": null,
   "metadata": {},
   "outputs": [],
   "source": []
  }
 ],
 "metadata": {
  "interpreter": {
   "hash": "af92f991aa0b26b1adc7f2eb5be811ea3ded4d7855b3e81fbf5a6cf06c0d3a1e"
  },
  "kernelspec": {
   "display_name": "Python 3.8.12 64-bit ('notebook': conda)",
   "name": "python3"
  },
  "language_info": {
   "codemirror_mode": {
    "name": "ipython",
    "version": 3
   },
   "file_extension": ".py",
   "mimetype": "text/x-python",
   "name": "python",
   "nbconvert_exporter": "python",
   "pygments_lexer": "ipython3",
   "version": "3.8.12"
  },
  "orig_nbformat": 4
 },
 "nbformat": 4,
 "nbformat_minor": 2
}
