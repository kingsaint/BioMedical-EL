{
 "cells": [
  {
   "cell_type": "code",
   "execution_count": 1,
   "metadata": {},
   "outputs": [
    {
     "name": "stdout",
     "output_type": "stream",
     "text": [
      "Creating conceptual edge index\n",
      "Creating lexical edge index\n"
     ]
    },
    {
     "data": {
      "text/html": [
       "<div class=\"tex2jax_ignore\" style=\"white-space: pre-wrap\"><div><span style=\"display: inline-block; vertical-align: top\">Diffuse skeletal </span><span style=\"display: inline-block; vertical-align: top; position: relative; margin-bottom: 11px\"><span style=\"border-bottom: 3px solid #b39ddb; padding-bottom: 8px\">pain</span><span style=\"font-size: 11px; line-height: 1; white-space: nowrap; text-shadow: 1px 1px 0px white; position: absolute; left: 0; bottom: -8px\">Pain</span></span><span style=\"display: inline-block; vertical-align: top\"> after administration of </span><span style=\"display: inline-block; vertical-align: top; position: relative; margin-bottom: 11px\"><span style=\"border-bottom: 3px solid #bcaaa4; padding-bottom: 8px\">alendronate</span><span style=\"font-size: 11px; line-height: 1; white-space: nowrap; text-shadow: 1px 1px 0px white; position: absolute; left: 0; bottom: -8px\">Alendronate</span></span><span style=\"display: inline-block; vertical-align: top\">. BACKGROUND: </span></div><div><span style=\"display: inline-block; vertical-align: top\"></span><span style=\"display: inline-block; vertical-align: top; position: relative; margin-bottom: 11px\"><span style=\"border-bottom: 3px solid #90caf9; padding-bottom: 8px\">Osteoporosis</span><span style=\"font-size: 11px; line-height: 1; white-space: nowrap; text-shadow: 1px 1px 0px white; position: absolute; left: 0; bottom: -8px\">Osteoporosis</span></span><span style=\"display: inline-block; vertical-align: top\"> is caused by bone resorption in excess of bone formation, and </span></div><div><span style=\"display: inline-block; vertical-align: top\"></span><span style=\"display: inline-block; vertical-align: top; position: relative; margin-bottom: 11px\"><span style=\"border-bottom: 3px solid #a5d6a7; padding-bottom: 8px\">bisphosphonates</span><span style=\"font-size: 11px; line-height: 1; white-space: nowrap; text-shadow: 1px 1px 0px white; position: absolute; left: 0; bottom: -8px\">Diphosphonates</span></span><span style=\"display: inline-block; vertical-align: top\">, are used to inhibit bone resorption. </span><span style=\"display: inline-block; vertical-align: top; position: relative; margin-bottom: 11px\"><span style=\"border-bottom: 3px solid #bcaaa4; padding-bottom: 8px\">Alendronate</span><span style=\"font-size: 11px; line-height: 1; white-space: nowrap; text-shadow: 1px 1px 0px white; position: absolute; left: 0; bottom: -8px\">Alendronate</span></span><span style=\"display: inline-block; vertical-align: top\">, a </span></div><div><span style=\"display: inline-block; vertical-align: top\">biphosphonate, is effective for both the treatment and prevention of </span></div><div><span style=\"display: inline-block; vertical-align: top\"></span><span style=\"display: inline-block; vertical-align: top; position: relative; margin-bottom: 11px\"><span style=\"border-bottom: 3px solid #90caf9; padding-bottom: 8px\">osteoporosis</span><span style=\"font-size: 11px; line-height: 1; white-space: nowrap; text-shadow: 1px 1px 0px white; position: absolute; left: 0; bottom: -8px\">Osteoporosis</span></span><span style=\"display: inline-block; vertical-align: top\"> in postmenopausal women. Side effects are relatively few and </span></div><div><span style=\"display: inline-block; vertical-align: top\">prominently gastrointestinal. </span><span style=\"display: inline-block; vertical-align: top; position: relative; margin-bottom: 11px\"><span style=\"border-bottom: 3px solid #ef9a9a; padding-bottom: 8px\">Musculoskeletal pain</span><span style=\"font-size: 11px; line-height: 1; white-space: nowrap; text-shadow: 1px 1px 0px white; position: absolute; left: 0; bottom: -8px\">Musculoskeletal Pain</span></span><span style=\"display: inline-block; vertical-align: top\"> may be an important side </span></div><div><span style=\"display: inline-block; vertical-align: top\">effect in these patients. We presented a patient admitted to our out-patient </span></div><div><span style=\"display: inline-block; vertical-align: top\">clinic with diffuse skeletal </span><span style=\"display: inline-block; vertical-align: top; position: relative; margin-bottom: 11px\"><span style=\"border-bottom: 3px solid #b39ddb; padding-bottom: 8px\">pain</span><span style=\"font-size: 11px; line-height: 1; white-space: nowrap; text-shadow: 1px 1px 0px white; position: absolute; left: 0; bottom: -8px\">Pain</span></span><span style=\"display: inline-block; vertical-align: top\"> after three consecutive administration of </span></div><div><span style=\"display: inline-block; vertical-align: top\"></span><span style=\"display: inline-block; vertical-align: top; position: relative; margin-bottom: 11px\"><span style=\"border-bottom: 3px solid #bcaaa4; padding-bottom: 8px\">alendronate</span><span style=\"font-size: 11px; line-height: 1; white-space: nowrap; text-shadow: 1px 1px 0px white; position: absolute; left: 0; bottom: -8px\">Alendronate</span></span><span style=\"display: inline-block; vertical-align: top\">. CONCLUSION: We conclude that patients with </span><span style=\"display: inline-block; vertical-align: top; position: relative; margin-bottom: 11px\"><span style=\"border-bottom: 3px solid #90caf9; padding-bottom: 8px\">osteoporosis</span><span style=\"font-size: 11px; line-height: 1; white-space: nowrap; text-shadow: 1px 1px 0px white; position: absolute; left: 0; bottom: -8px\">Osteoporosis</span></span><span style=\"display: inline-block; vertical-align: top\"> can report </span></div><div><span style=\"display: inline-block; vertical-align: top\"></span><span style=\"display: inline-block; vertical-align: top; position: relative; margin-bottom: 11px\"><span style=\"border-bottom: 3px solid #b39ddb; padding-bottom: 8px\">pain</span><span style=\"font-size: 11px; line-height: 1; white-space: nowrap; text-shadow: 1px 1px 0px white; position: absolute; left: 0; bottom: -8px\">Pain</span></span><span style=\"display: inline-block; vertical-align: top\">, and </span><span style=\"display: inline-block; vertical-align: top; position: relative; margin-bottom: 11px\"><span style=\"border-bottom: 3px solid #a5d6a7; padding-bottom: 8px\">bisphosphonate</span><span style=\"font-size: 11px; line-height: 1; white-space: nowrap; text-shadow: 1px 1px 0px white; position: absolute; left: 0; bottom: -8px\">Diphosphonates</span></span><span style=\"display: inline-block; vertical-align: top\">-related </span><span style=\"display: inline-block; vertical-align: top; position: relative; margin-bottom: 11px\"><span style=\"border-bottom: 3px solid #b39ddb; padding-bottom: 8px\">pain</span><span style=\"font-size: 11px; line-height: 1; white-space: nowrap; text-shadow: 1px 1px 0px white; position: absolute; left: 0; bottom: -8px\">Pain</span></span><span style=\"display: inline-block; vertical-align: top\"> should also be considered before ascribing</span></div><div><span style=\"display: inline-block; vertical-align: top\"> this complaint to </span><span style=\"display: inline-block; vertical-align: top; position: relative; margin-bottom: 11px\"><span style=\"border-bottom: 3px solid #90caf9; padding-bottom: 8px\">osteoporosis</span><span style=\"font-size: 11px; line-height: 1; white-space: nowrap; text-shadow: 1px 1px 0px white; position: absolute; left: 0; bottom: -8px\">Osteoporosis</span></span><span style=\"display: inline-block; vertical-align: top\">.</span></div></div>"
      ],
      "text/plain": [
       "<IPython.core.display.HTML object>"
      ]
     },
     "metadata": {},
     "output_type": "display_data"
    },
    {
     "name": "stdout",
     "output_type": "stream",
     "text": [
      "Mentions Omitted: 0\n"
     ]
    },
    {
     "data": {
      "text/html": [
       "<div class=\"tex2jax_ignore\" style=\"white-space: pre-wrap\"><div><span style=\"display: inline-block; vertical-align: top\">Diffuse skeletal </span><span style=\"display: inline-block; vertical-align: top; position: relative; margin-bottom: 11px\"><span style=\"border-bottom: 3px solid #b39ddb; padding-bottom: 8px\">pain</span><span style=\"font-size: 11px; line-height: 1; white-space: nowrap; text-shadow: 1px 1px 0px white; position: absolute; left: 0; bottom: -8px\">Pain</span></span><span style=\"display: inline-block; vertical-align: top\"> after administration of </span><span style=\"display: inline-block; vertical-align: top; position: relative; margin-bottom: 11px\"><span style=\"border-bottom: 3px solid #bcaaa4; padding-bottom: 8px\">alendronate</span><span style=\"font-size: 11px; line-height: 1; white-space: nowrap; text-shadow: 1px 1px 0px white; position: absolute; left: 0; bottom: -8px\">Alendronate</span></span><span style=\"display: inline-block; vertical-align: top\">. BACKGROUND: </span></div><div><span style=\"display: inline-block; vertical-align: top\"></span><span style=\"display: inline-block; vertical-align: top; position: relative; margin-bottom: 11px\"><span style=\"border-bottom: 3px solid #90caf9; padding-bottom: 8px\">Osteoporosis</span><span style=\"font-size: 11px; line-height: 1; white-space: nowrap; text-shadow: 1px 1px 0px white; position: absolute; left: 0; bottom: -8px\">Osteoporosis</span></span><span style=\"display: inline-block; vertical-align: top\"> is caused by bone resorption in excess of bone formation, and </span></div><div><span style=\"display: inline-block; vertical-align: top\"></span><span style=\"display: inline-block; vertical-align: top; position: relative; margin-bottom: 11px\"><span style=\"border-bottom: 3px solid #a5d6a7; padding-bottom: 8px\">bisphosphonates</span><span style=\"font-size: 11px; line-height: 1; white-space: nowrap; text-shadow: 1px 1px 0px white; position: absolute; left: 0; bottom: -8px\">Diphosphonates</span></span><span style=\"display: inline-block; vertical-align: top\">, are used to inhibit bone resorption. </span><span style=\"display: inline-block; vertical-align: top; position: relative; margin-bottom: 11px\"><span style=\"border-bottom: 3px solid #bcaaa4; padding-bottom: 8px\">Alendronate</span><span style=\"font-size: 11px; line-height: 1; white-space: nowrap; text-shadow: 1px 1px 0px white; position: absolute; left: 0; bottom: -8px\">Alendronate</span></span><span style=\"display: inline-block; vertical-align: top\">, a </span></div><div><span style=\"display: inline-block; vertical-align: top\">biphosphonate, is effective for both the treatment and prevention of </span></div><div><span style=\"display: inline-block; vertical-align: top\"></span><span style=\"display: inline-block; vertical-align: top; position: relative; margin-bottom: 11px\"><span style=\"border-bottom: 3px solid #90caf9; padding-bottom: 8px\">osteoporosis</span><span style=\"font-size: 11px; line-height: 1; white-space: nowrap; text-shadow: 1px 1px 0px white; position: absolute; left: 0; bottom: -8px\">Osteoporosis</span></span><span style=\"display: inline-block; vertical-align: top\"> in postmenopausal women. Side effects are relatively few and </span></div><div><span style=\"display: inline-block; vertical-align: top\">prominently gastrointestinal. </span><span style=\"display: inline-block; vertical-align: top; position: relative; margin-bottom: 11px\"><span style=\"border-bottom: 3px solid #ef9a9a; padding-bottom: 8px\">Musculoskeletal pain</span><span style=\"font-size: 11px; line-height: 1; white-space: nowrap; text-shadow: 1px 1px 0px white; position: absolute; left: 0; bottom: -8px\">Musculoskeletal Pain</span></span><span style=\"display: inline-block; vertical-align: top\"> may be an important side </span></div><div><span style=\"display: inline-block; vertical-align: top\">effect in these patients. We presented a patient admitted to our out-patient </span></div><div><span style=\"display: inline-block; vertical-align: top\">clinic with diffuse skeletal </span><span style=\"display: inline-block; vertical-align: top; position: relative; margin-bottom: 11px\"><span style=\"border-bottom: 3px solid #b39ddb; padding-bottom: 8px\">pain</span><span style=\"font-size: 11px; line-height: 1; white-space: nowrap; text-shadow: 1px 1px 0px white; position: absolute; left: 0; bottom: -8px\">Pain</span></span><span style=\"display: inline-block; vertical-align: top\"></span></div></div>"
      ],
      "text/plain": [
       "<IPython.core.display.HTML object>"
      ]
     },
     "metadata": {},
     "output_type": "display_data"
    },
    {
     "name": "stdout",
     "output_type": "stream",
     "text": [
      "-----------------------------------\n"
     ]
    },
    {
     "data": {
      "text/html": [
       "<div class=\"tex2jax_ignore\" style=\"white-space: pre-wrap\"><div><span style=\"display: inline-block; vertical-align: top\"> after three consecutive administration of </span><span style=\"display: inline-block; vertical-align: top; position: relative; margin-bottom: 11px\"><span style=\"border-bottom: 3px solid #bcaaa4; padding-bottom: 8px\">alendronate</span><span style=\"font-size: 11px; line-height: 1; white-space: nowrap; text-shadow: 1px 1px 0px white; position: absolute; left: 0; bottom: -8px\">Alendronate</span></span><span style=\"display: inline-block; vertical-align: top\">. CONCLUSION: We conclude </span></div><div><span style=\"display: inline-block; vertical-align: top\">that patients with </span><span style=\"display: inline-block; vertical-align: top; position: relative; margin-bottom: 11px\"><span style=\"border-bottom: 3px solid #90caf9; padding-bottom: 8px\">osteoporosis</span><span style=\"font-size: 11px; line-height: 1; white-space: nowrap; text-shadow: 1px 1px 0px white; position: absolute; left: 0; bottom: -8px\">Osteoporosis</span></span><span style=\"display: inline-block; vertical-align: top\"> can report </span><span style=\"display: inline-block; vertical-align: top; position: relative; margin-bottom: 11px\"><span style=\"border-bottom: 3px solid #b39ddb; padding-bottom: 8px\">pain</span><span style=\"font-size: 11px; line-height: 1; white-space: nowrap; text-shadow: 1px 1px 0px white; position: absolute; left: 0; bottom: -8px\">Pain</span></span><span style=\"display: inline-block; vertical-align: top\">, and </span><span style=\"display: inline-block; vertical-align: top; position: relative; margin-bottom: 11px\"><span style=\"border-bottom: 3px solid #a5d6a7; padding-bottom: 8px\">bisphosphonate</span><span style=\"font-size: 11px; line-height: 1; white-space: nowrap; text-shadow: 1px 1px 0px white; position: absolute; left: 0; bottom: -8px\">Diphosphonates</span></span><span style=\"display: inline-block; vertical-align: top\">-related </span><span style=\"display: inline-block; vertical-align: top; position: relative; margin-bottom: 11px\"><span style=\"border-bottom: 3px solid #b39ddb; padding-bottom: 8px\">pain</span><span style=\"font-size: 11px; line-height: 1; white-space: nowrap; text-shadow: 1px 1px 0px white; position: absolute; left: 0; bottom: -8px\">Pain</span></span><span style=\"display: inline-block; vertical-align: top\"></span></div><div><span style=\"display: inline-block; vertical-align: top\"> should also be considered before ascribing this complaint to </span><span style=\"display: inline-block; vertical-align: top; position: relative; margin-bottom: 11px\"><span style=\"border-bottom: 3px solid #90caf9; padding-bottom: 8px\">osteoporosis</span><span style=\"font-size: 11px; line-height: 1; white-space: nowrap; text-shadow: 1px 1px 0px white; position: absolute; left: 0; bottom: -8px\">Osteoporosis</span></span><span style=\"display: inline-block; vertical-align: top\">.</span></div></div>"
      ],
      "text/plain": [
       "<IPython.core.display.HTML object>"
      ]
     },
     "metadata": {},
     "output_type": "display_data"
    },
    {
     "name": "stdout",
     "output_type": "stream",
     "text": [
      "-----------------------------------\n"
     ]
    }
   ],
   "source": [
    "from el_toolkit.document import Document\n",
    "from el_toolkit.lkb.lexical_knowledge_base import Lexical_Knowledge_Base\n",
    "from transformers import BertTokenizer\n",
    "\n",
    "\n",
    "lkb = Lexical_Knowledge_Base.read_json(\"data/knowledge_datasets/mesh_subset.json\")\n",
    "\n",
    "biomed_tokenizer = BertTokenizer.from_pretrained(pretrained_model_name_or_path='monologg/biobert_v1.1_pubmed',\n",
    "                                            do_lower_case=False, cache_dir=None)\n",
    "                                            \n",
    "doc = Document.read_json(\"/Users/coltonflowers/Work/TREND_repos/BioMedical-EL/tests/test_data/test_docs/without_overlaps/14_mentions.json\")\n",
    "doc.jupyter_display(lkb)\n",
    "for segmented_doc in doc.segment(biomed_tokenizer,8):\n",
    "  segmented_doc.jupyter_display(lkb)\n",
    "  print(\"-----------------------------------\")"
   ]
  },
  {
   "cell_type": "code",
   "execution_count": 2,
   "metadata": {},
   "outputs": [
    {
     "name": "stderr",
     "output_type": "stream",
     "text": [
      "Some weights of the model checkpoint at monologg/biobert_v1.1_pubmed were not used when initializing BertModel: ['cls.predictions.bias', 'cls.predictions.transform.LayerNorm.bias', 'cls.predictions.transform.dense.bias', 'cls.seq_relationship.weight', 'cls.seq_relationship.bias', 'cls.predictions.transform.LayerNorm.weight', 'cls.predictions.transform.dense.weight', 'cls.predictions.decoder.weight']\n",
      "- This IS expected if you are initializing BertModel from the checkpoint of a model trained on another task or with another architecture (e.g. initializing a BertForSequenceClassification model from a BertForPreTraining model).\n",
      "- This IS NOT expected if you are initializing BertModel from the checkpoint of a model that you expect to be exactly identical (initializing a BertForSequenceClassification model from a BertForSequenceClassification model).\n"
     ]
    },
    {
     "name": "stdout",
     "output_type": "stream",
     "text": [
      "Mentions Omitted: 0\n"
     ]
    }
   ],
   "source": [
    "from el_toolkit.entity_linkers.dual_embedder.featurizer import BertDualEmbedderTrainFeaturizer\n",
    "from el_toolkit.entity_linkers.dual_embedder.concept_embedder import BertConceptEmbedder\n",
    "from el_toolkit.entity_linkers.dual_embedder.document_embedder import DocumentEmbedder\n",
    "from el_toolkit.entity_linkers.dual_embedder.entity_linker import DualEmbedderEntityLinker\n",
    "from el_toolkit.entity_linkers.dual_embedder.model import BertMentionDetectorModel\n",
    "from el_toolkit.entity_linkers.dual_embedder.model import BertDualEmbedderModel\n",
    "from transformers import BertModel\n",
    "import copy\n",
    "\n",
    "bert_mention = BertModel.from_pretrained(\"monologg/biobert_v1.1_pubmed\")\n",
    "bert_candidate = copy.deepcopy(bert_mention)\n",
    "concept_embedder = BertConceptEmbedder(lkb,bert_model=bert_mention,tokenizer=biomed_tokenizer,max_seq_len=256)\n",
    "span_detector = BertMentionDetectorModel(bert_mention)\n",
    "document_embedder = DocumentEmbedder(span_detector=span_detector,tokenizer=biomed_tokenizer,max_seq_len=256)\n",
    "dual_embedder_model = BertDualEmbedderModel(bert_candidate,bert_mention)\n",
    "dual_embedder = DualEmbedderEntityLinker(concept_embedder,document_embedder,dual_embedder_model)\n",
    "featurizer = BertDualEmbedderTrainFeaturizer(lkb,dual_embedder)\n",
    "docs = doc.segment(biomed_tokenizer,8) "
   ]
  },
  {
   "cell_type": "markdown",
   "metadata": {},
   "source": []
  },
  {
   "cell_type": "code",
   "execution_count": 3,
   "metadata": {},
   "outputs": [
    {
     "name": "stderr",
     "output_type": "stream",
     "text": [
      "Iteration:   0%|          | 0/2 [00:00<?, ?it/s]\n",
      "Epoch:   0%|          | 0/10 [00:00<?, ?it/s]\n"
     ]
    },
    {
     "ename": "AttributeError",
     "evalue": "'BertDualEmbedderModel' object has no attribute 'device'",
     "output_type": "error",
     "traceback": [
      "\u001b[0;31m---------------------------------------------------------------------------\u001b[0m",
      "\u001b[0;31mAttributeError\u001b[0m                            Traceback (most recent call last)",
      "Input \u001b[0;32mIn [3]\u001b[0m, in \u001b[0;36m<module>\u001b[0;34m\u001b[0m\n\u001b[0;32m----> 1\u001b[0m dual_embedder\u001b[39m.\u001b[39;49mtrain(docs,num_random_negatives\u001b[39m=\u001b[39;49m\u001b[39m4\u001b[39;49m)\n",
      "File \u001b[0;32m~/Work/TREND_repos/BioMedical-EL/el_toolkit/entity_linkers/dual_embedder/entity_linker.py:51\u001b[0m, in \u001b[0;36mDualEmbedderEntityLinker.train\u001b[0;34m(self, docs, num_hard_negatives, num_random_negatives, num_max_mentions, batch_size, num_epochs, hvd)\u001b[0m\n\u001b[1;32m     <a href='file:///~/Work/TREND_repos/BioMedical-EL/el_toolkit/entity_linkers/dual_embedder/entity_linker.py?line=48'>49</a>\u001b[0m epoch_iterator \u001b[39m=\u001b[39m tqdm(train_dataloader, desc\u001b[39m=\u001b[39m\u001b[39m\"\u001b[39m\u001b[39mIteration\u001b[39m\u001b[39m\"\u001b[39m)\u001b[39m#, disable=args.local_rank not in [-1, 0])\u001b[39;00m\n\u001b[1;32m     <a href='file:///~/Work/TREND_repos/BioMedical-EL/el_toolkit/entity_linkers/dual_embedder/entity_linker.py?line=49'>50</a>\u001b[0m \u001b[39mfor\u001b[39;00m step, batch \u001b[39min\u001b[39;00m \u001b[39menumerate\u001b[39m(epoch_iterator):\n\u001b[0;32m---> <a href='file:///~/Work/TREND_repos/BioMedical-EL/el_toolkit/entity_linkers/dual_embedder/entity_linker.py?line=50'>51</a>\u001b[0m     batch \u001b[39m=\u001b[39m \u001b[39mtuple\u001b[39;49m(t\u001b[39m.\u001b[39;49mto(\u001b[39mself\u001b[39;49m\u001b[39m.\u001b[39;49m_dual_embedder_model\u001b[39m.\u001b[39;49mdevice) \u001b[39mfor\u001b[39;49;00m t \u001b[39min\u001b[39;49;00m batch)\n\u001b[1;32m     <a href='file:///~/Work/TREND_repos/BioMedical-EL/el_toolkit/entity_linkers/dual_embedder/entity_linker.py?line=51'>52</a>\u001b[0m     \u001b[39mself\u001b[39m\u001b[39m.\u001b[39m_dual_embedder_model\u001b[39m.\u001b[39mtrain()\n\u001b[1;32m     <a href='file:///~/Work/TREND_repos/BioMedical-EL/el_toolkit/entity_linkers/dual_embedder/entity_linker.py?line=52'>53</a>\u001b[0m     inputs \u001b[39m=\u001b[39m {field:batch[i] \u001b[39mfor\u001b[39;00m i,field \u001b[39min\u001b[39;00m \u001b[39menumerate\u001b[39m(\u001b[39mself\u001b[39m\u001b[39m.\u001b[39m_train_featurizer\u001b[39m.\u001b[39mTrainingInputFeatures\u001b[39m.\u001b[39m_fields)}\n",
      "File \u001b[0;32m~/Work/TREND_repos/BioMedical-EL/el_toolkit/entity_linkers/dual_embedder/entity_linker.py:51\u001b[0m, in \u001b[0;36m<genexpr>\u001b[0;34m(.0)\u001b[0m\n\u001b[1;32m     <a href='file:///~/Work/TREND_repos/BioMedical-EL/el_toolkit/entity_linkers/dual_embedder/entity_linker.py?line=48'>49</a>\u001b[0m epoch_iterator \u001b[39m=\u001b[39m tqdm(train_dataloader, desc\u001b[39m=\u001b[39m\u001b[39m\"\u001b[39m\u001b[39mIteration\u001b[39m\u001b[39m\"\u001b[39m)\u001b[39m#, disable=args.local_rank not in [-1, 0])\u001b[39;00m\n\u001b[1;32m     <a href='file:///~/Work/TREND_repos/BioMedical-EL/el_toolkit/entity_linkers/dual_embedder/entity_linker.py?line=49'>50</a>\u001b[0m \u001b[39mfor\u001b[39;00m step, batch \u001b[39min\u001b[39;00m \u001b[39menumerate\u001b[39m(epoch_iterator):\n\u001b[0;32m---> <a href='file:///~/Work/TREND_repos/BioMedical-EL/el_toolkit/entity_linkers/dual_embedder/entity_linker.py?line=50'>51</a>\u001b[0m     batch \u001b[39m=\u001b[39m \u001b[39mtuple\u001b[39m(t\u001b[39m.\u001b[39mto(\u001b[39mself\u001b[39;49m\u001b[39m.\u001b[39;49m_dual_embedder_model\u001b[39m.\u001b[39;49mdevice) \u001b[39mfor\u001b[39;00m t \u001b[39min\u001b[39;00m batch)\n\u001b[1;32m     <a href='file:///~/Work/TREND_repos/BioMedical-EL/el_toolkit/entity_linkers/dual_embedder/entity_linker.py?line=51'>52</a>\u001b[0m     \u001b[39mself\u001b[39m\u001b[39m.\u001b[39m_dual_embedder_model\u001b[39m.\u001b[39mtrain()\n\u001b[1;32m     <a href='file:///~/Work/TREND_repos/BioMedical-EL/el_toolkit/entity_linkers/dual_embedder/entity_linker.py?line=52'>53</a>\u001b[0m     inputs \u001b[39m=\u001b[39m {field:batch[i] \u001b[39mfor\u001b[39;00m i,field \u001b[39min\u001b[39;00m \u001b[39menumerate\u001b[39m(\u001b[39mself\u001b[39m\u001b[39m.\u001b[39m_train_featurizer\u001b[39m.\u001b[39mTrainingInputFeatures\u001b[39m.\u001b[39m_fields)}\n",
      "File \u001b[0;32m~/opt/anaconda3/envs/notebook/lib/python3.8/site-packages/torch/nn/modules/module.py:1177\u001b[0m, in \u001b[0;36mModule.__getattr__\u001b[0;34m(self, name)\u001b[0m\n\u001b[1;32m   <a href='file:///~/opt/anaconda3/envs/notebook/lib/python3.8/site-packages/torch/nn/modules/module.py?line=1174'>1175</a>\u001b[0m     \u001b[39mif\u001b[39;00m name \u001b[39min\u001b[39;00m modules:\n\u001b[1;32m   <a href='file:///~/opt/anaconda3/envs/notebook/lib/python3.8/site-packages/torch/nn/modules/module.py?line=1175'>1176</a>\u001b[0m         \u001b[39mreturn\u001b[39;00m modules[name]\n\u001b[0;32m-> <a href='file:///~/opt/anaconda3/envs/notebook/lib/python3.8/site-packages/torch/nn/modules/module.py?line=1176'>1177</a>\u001b[0m \u001b[39mraise\u001b[39;00m \u001b[39mAttributeError\u001b[39;00m(\u001b[39m\"\u001b[39m\u001b[39m'\u001b[39m\u001b[39m{}\u001b[39;00m\u001b[39m'\u001b[39m\u001b[39m object has no attribute \u001b[39m\u001b[39m'\u001b[39m\u001b[39m{}\u001b[39;00m\u001b[39m'\u001b[39m\u001b[39m\"\u001b[39m\u001b[39m.\u001b[39mformat(\n\u001b[1;32m   <a href='file:///~/opt/anaconda3/envs/notebook/lib/python3.8/site-packages/torch/nn/modules/module.py?line=1177'>1178</a>\u001b[0m     \u001b[39mtype\u001b[39m(\u001b[39mself\u001b[39m)\u001b[39m.\u001b[39m\u001b[39m__name__\u001b[39m, name))\n",
      "\u001b[0;31mAttributeError\u001b[0m: 'BertDualEmbedderModel' object has no attribute 'device'"
     ]
    }
   ],
   "source": [
    "dual_embedder.train(docs,num_random_negatives=4)"
   ]
  },
  {
   "cell_type": "code",
   "execution_count": 9,
   "metadata": {},
   "outputs": [
    {
     "data": {
      "text/plain": [
       "tensor([  5,  12,  26,  45,  60,  82, 110, 137])"
      ]
     },
     "execution_count": 9,
     "metadata": {},
     "output_type": "execute_result"
    }
   ],
   "source": [
    "dataset[0][3]"
   ]
  },
  {
   "cell_type": "code",
   "execution_count": 10,
   "metadata": {},
   "outputs": [
    {
     "data": {
      "text/plain": [
       "tensor([  5,   9,  22,  41,  57,  78, 104, 137])"
      ]
     },
     "execution_count": 10,
     "metadata": {},
     "output_type": "execute_result"
    }
   ],
   "source": [
    "dataset[0][2]"
   ]
  },
  {
   "cell_type": "code",
   "execution_count": 25,
   "metadata": {},
   "outputs": [],
   "source": [
    "doc_token_ids,doc_token_mask,mention_start_indices,mention_end_indices,_,_  = dual_embedder.document_embedder.encode_document(doc)"
   ]
  },
  {
   "cell_type": "code",
   "execution_count": 6,
   "metadata": {},
   "outputs": [],
   "source": [
    "lkb = Lexical_Knowledge_Base.read_json(\"data/knowledge_datasets/trend.json\")"
   ]
  },
  {
   "cell_type": "code",
   "execution_count": null,
   "metadata": {},
   "outputs": [],
   "source": []
  }
 ],
 "metadata": {
  "interpreter": {
   "hash": "af92f991aa0b26b1adc7f2eb5be811ea3ded4d7855b3e81fbf5a6cf06c0d3a1e"
  },
  "kernelspec": {
   "display_name": "Python 3.8.12 64-bit ('notebook': conda)",
   "name": "python3"
  },
  "language_info": {
   "codemirror_mode": {
    "name": "ipython",
    "version": 3
   },
   "file_extension": ".py",
   "mimetype": "text/x-python",
   "name": "python",
   "nbconvert_exporter": "python",
   "pygments_lexer": "ipython3",
   "version": "3.8.12"
  },
  "orig_nbformat": 4
 },
 "nbformat": 4,
 "nbformat_minor": 2
}
