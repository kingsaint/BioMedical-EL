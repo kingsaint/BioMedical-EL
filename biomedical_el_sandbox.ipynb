{
 "cells": [
  {
   "cell_type": "code",
   "execution_count": null,
   "source": [
    "from el_toolkit.document import Document\n",
    "from el_toolkit.data_processors import segment_document\n",
    "from el_toolkit.data_displayer import Displayer\n",
    "from transformers import BertTokenizer\n",
    "from IPython.display import display, HTML\n",
    "\n",
    "biomed_tokenizer = BertTokenizer.from_pretrained(pretrained_model_name_or_path='monologg/biobert_v1.1_pubmed',\n",
    "                                            do_lower_case=False, cache_dir=None)\n",
    "\n",
    "test_doc = Document.read_json(\"./tests/test_data/test_docs/without_overlaps/17_mentions.json\")\n",
    "\n",
    "display(HTML(Displayer.display(test_doc)))\n",
    "for doc in segment_document(test_doc,biomed_tokenizer,8):\n",
    "  display(HTML(Displayer.display(doc)))\n",
    "  print(\"-----------------------------------\")\n"
   ],
   "outputs": [],
   "metadata": {}
  },
  {
   "cell_type": "code",
   "execution_count": 3,
   "source": [
    "from el_toolkit.lexical_knowledge_base import Knowledge_Data,RDF_Lexical_Knowledge_Base,Net_Lexical_Knowledge_Base"
   ],
   "outputs": [],
   "metadata": {}
  },
  {
   "cell_type": "code",
   "execution_count": 6,
   "source": [
    "lkb = Net_Lexical_Knowledge_Base(Knowledge_Data.read_json(\"tests/test_data/test_knowledge_data/small_example.json\"))"
   ],
   "outputs": [
    {
     "output_type": "stream",
     "name": "stdout",
     "text": [
      "Concept(id='C1', info={'tst_attr': 3}),set()\n",
      "Concept(id='C2', info={'tst_attr': 4}),set()\n",
      "Concept(id='C3', info={'tst_attr': 5}),set()\n",
      "Concept(id='C3', info={'tst_attr': 5}),{Term(id='T2', string='Test Term 2')}\n"
     ]
    }
   ],
   "metadata": {}
  },
  {
   "cell_type": "code",
   "execution_count": 10,
   "source": [
    "lkb.get_concept_node(\"C1\")._term_nodes"
   ],
   "outputs": [
    {
     "output_type": "execute_result",
     "data": {
      "text/plain": [
       "{self.term, self.term, self.term, self.term, self.term, self.term}"
      ]
     },
     "metadata": {},
     "execution_count": 10
    }
   ],
   "metadata": {}
  },
  {
   "cell_type": "code",
   "execution_count": 16,
   "source": [
    "lkb.get_concepts_from_term_id(\"T1\")"
   ],
   "outputs": [
    {
     "output_type": "execute_result",
     "data": {
      "text/plain": [
       "[Concept(id='C2', info={'tst_attr': 4}),\n",
       " Concept(id='C3', info={'tst_attr': 5}),\n",
       " Concept(id='C3', info={'tst_attr': 5}),\n",
       " Concept(id='C3', info={'tst_attr': 5}),\n",
       " Concept(id='C1', info={'tst_attr': 3}),\n",
       " Concept(id='C1', info={'tst_attr': 3}),\n",
       " Concept(id='C1', info={'tst_attr': 3}),\n",
       " Concept(id='C2', info={'tst_attr': 4}),\n",
       " Concept(id='C2', info={'tst_attr': 4}),\n",
       " Concept(id='C3', info={'tst_attr': 5}),\n",
       " Concept(id='C2', info={'tst_attr': 4}),\n",
       " Concept(id='C1', info={'tst_attr': 3})]"
      ]
     },
     "metadata": {},
     "execution_count": 16
    }
   ],
   "metadata": {}
  },
  {
   "cell_type": "code",
   "execution_count": null,
   "source": [
    "Knowledge_Data.read_json(\"tests/test_data/test_knowledge_data/small_example.json\")"
   ],
   "outputs": [],
   "metadata": {}
  },
  {
   "cell_type": "code",
   "execution_count": null,
   "source": [
    "Knowledge_Data.read_json(\"tests/test_data/test_knowledge_data/small_example.json\")"
   ],
   "outputs": [],
   "metadata": {}
  },
  {
   "cell_type": "code",
   "execution_count": null,
   "source": [
    "lkb.get_concept(\"C1\")"
   ],
   "outputs": [],
   "metadata": {}
  },
  {
   "cell_type": "code",
   "execution_count": null,
   "source": [
    "lkb.id_to_concept_node"
   ],
   "outputs": [],
   "metadata": {}
  },
  {
   "cell_type": "code",
   "execution_count": 5,
   "source": [
    "from"
   ],
   "outputs": [
    {
     "output_type": "error",
     "ename": "NameError",
     "evalue": "name 'Concept' is not defined",
     "traceback": [
      "\u001b[0;31m---------------------------------------------------------------------------\u001b[0m",
      "\u001b[0;31mNameError\u001b[0m                                 Traceback (most recent call last)",
      "Input \u001b[0;32mIn [5]\u001b[0m, in \u001b[0;36m<module>\u001b[0;34m\u001b[0m\n\u001b[0;32m----> 1\u001b[0m \u001b[43mConcept\u001b[49m(\u001b[38;5;124m\"\u001b[39m\u001b[38;5;124mC1\u001b[39m\u001b[38;5;124m\"\u001b[39m)\n",
      "\u001b[0;31mNameError\u001b[0m: name 'Concept' is not defined"
     ]
    }
   ],
   "metadata": {}
  },
  {
   "cell_type": "code",
   "execution_count": 8,
   "source": [
    "from el_toolkit.lexical_knowledge_base import *"
   ],
   "outputs": [],
   "metadata": {}
  },
  {
   "cell_type": "code",
   "execution_count": 9,
   "source": [
    "c = Concept(\"c1\")\n",
    "t = Term(\"t1\",string=\"test\")"
   ],
   "outputs": [],
   "metadata": {}
  },
  {
   "cell_type": "code",
   "execution_count": 10,
   "source": [
    "c_node = Concept_Node(c)\n",
    "c_node._term_nodes"
   ],
   "outputs": [
    {
     "output_type": "execute_result",
     "data": {
      "text/plain": [
       "set()"
      ]
     },
     "metadata": {},
     "execution_count": 10
    }
   ],
   "metadata": {}
  },
  {
   "cell_type": "code",
   "execution_count": null,
   "source": [],
   "outputs": [],
   "metadata": {}
  }
 ],
 "metadata": {
  "orig_nbformat": 4,
  "language_info": {
   "name": "python",
   "version": "3.8.12",
   "mimetype": "text/x-python",
   "codemirror_mode": {
    "name": "ipython",
    "version": 3
   },
   "pygments_lexer": "ipython3",
   "nbconvert_exporter": "python",
   "file_extension": ".py"
  },
  "kernelspec": {
   "name": "python3",
   "display_name": "Python 3.8.12 64-bit ('notebook': conda)"
  },
  "interpreter": {
   "hash": "af92f991aa0b26b1adc7f2eb5be811ea3ded4d7855b3e81fbf5a6cf06c0d3a1e"
  }
 },
 "nbformat": 4,
 "nbformat_minor": 2
}