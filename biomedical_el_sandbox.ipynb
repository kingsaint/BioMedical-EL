{
 "cells": [
  {
   "cell_type": "code",
   "execution_count": 7,
   "source": [
    "from el_toolkit.document import Document\n",
    "from el_toolkit.data_processors import segment_document\n",
    "from el_toolkit.data_displayer import Displayer\n",
    "from transformers import BertTokenizer\n",
    "from IPython.display import display, HTML\n",
    "\n",
    "biomed_tokenizer = BertTokenizer.from_pretrained(pretrained_model_name_or_path='monologg/biobert_v1.1_pubmed',\n",
    "                                            do_lower_case=False, cache_dir=None)\n",
    "\n",
    "test_doc = Document.read_json(\"TREND_repos/BioMedical-EL/tests/test_data/test_docs/without_overlaps/17_mentions.json\")\n",
    "\n",
    "display(HTML(Displayer.display(test_doc)))\n",
    "for doc in segment_document(test_doc,biomed_tokenizer,8):\n",
    "  display(HTML(Displayer.display(doc)))\n",
    "  print(\"-----------------------------------\")\n"
   ],
   "outputs": [
    {
     "output_type": "display_data",
     "data": {
      "text/html": [
       "<div class=\"tex2jax_ignore\" style=\"white-space: pre-wrap\"><div><span style=\"display: inline-block; vertical-align: top\"></span><span style=\"display: inline-block; vertical-align: top; position: relative; margin-bottom: 11px\"><span style=\"border-bottom: 3px solid #a5d6a7; padding-bottom: 8px\">Naloxone</span><span style=\"font-size: 11px; line-height: 1; white-space: nowrap; text-shadow: 1px 1px 0px white; position: absolute; left: 0; bottom: -8px\">D009270</span></span><span style=\"display: inline-block; vertical-align: top\"> reverses the antihypertensive effect of </span><span style=\"display: inline-block; vertical-align: top; position: relative; margin-bottom: 11px\"><span style=\"border-bottom: 3px solid #ef9a9a; padding-bottom: 8px\">clonidine</span><span style=\"font-size: 11px; line-height: 1; white-space: nowrap; text-shadow: 1px 1px 0px white; position: absolute; left: 0; bottom: -8px\">D003000</span></span><span style=\"display: inline-block; vertical-align: top\">. In unanesthetized, </span></div><div><span style=\"display: inline-block; vertical-align: top\">spontaneously </span><span style=\"display: inline-block; vertical-align: top; position: relative; margin-bottom: 11px\"><span style=\"border-bottom: 3px solid #ffcc80; padding-bottom: 8px\">hypertensive</span><span style=\"font-size: 11px; line-height: 1; white-space: nowrap; text-shadow: 1px 1px 0px white; position: absolute; left: 0; bottom: -8px\">D006973</span></span><span style=\"display: inline-block; vertical-align: top\"> rats the decrease in blood pressure and heart rate </span></div><div><span style=\"display: inline-block; vertical-align: top\">produced by intravenous </span><span style=\"display: inline-block; vertical-align: top; position: relative; margin-bottom: 11px\"><span style=\"border-bottom: 3px solid #ef9a9a; padding-bottom: 8px\">clonidine</span><span style=\"font-size: 11px; line-height: 1; white-space: nowrap; text-shadow: 1px 1px 0px white; position: absolute; left: 0; bottom: -8px\">D003000</span></span><span style=\"display: inline-block; vertical-align: top\">, 5 to 20 micrograms/kg, was inhibited or </span></div><div><span style=\"display: inline-block; vertical-align: top\">reversed by nalozone, 0.2 to 2 mg/kg. The </span><span style=\"display: inline-block; vertical-align: top; position: relative; margin-bottom: 11px\"><span style=\"border-bottom: 3px solid #b39ddb; padding-bottom: 8px\">hypotensive</span><span style=\"font-size: 11px; line-height: 1; white-space: nowrap; text-shadow: 1px 1px 0px white; position: absolute; left: 0; bottom: -8px\">D007022</span></span><span style=\"display: inline-block; vertical-align: top\"> effect of 100 mg/kg </span><span style=\"display: inline-block; vertical-align: top; position: relative; margin-bottom: 11px\"><span style=\"border-bottom: 3px solid #bcaaa4; padding-bottom: 8px\">alpha-</span><span style=\"font-size: 11px; line-height: 1; white-space: nowrap; text-shadow: 1px 1px 0px white; position: absolute; left: 0; bottom: -8px\">D008750</span></span><span style=\"display: inline-block; vertical-align: top\"></span></div><div><span style=\"display: inline-block; vertical-align: top\"></span><span style=\"display: inline-block; vertical-align: top; position: relative; margin-bottom: 11px\"><span style=\"border-bottom: 3px solid #bcaaa4; padding-bottom: 8px\">methyldopa</span></span><span style=\"display: inline-block; vertical-align: top\"> was also partially reversed by </span><span style=\"display: inline-block; vertical-align: top; position: relative; margin-bottom: 11px\"><span style=\"border-bottom: 3px solid #a5d6a7; padding-bottom: 8px\">naloxone</span><span style=\"font-size: 11px; line-height: 1; white-space: nowrap; text-shadow: 1px 1px 0px white; position: absolute; left: 0; bottom: -8px\">D009270</span></span><span style=\"display: inline-block; vertical-align: top\">. </span><span style=\"display: inline-block; vertical-align: top; position: relative; margin-bottom: 11px\"><span style=\"border-bottom: 3px solid #a5d6a7; padding-bottom: 8px\">Naloxone</span><span style=\"font-size: 11px; line-height: 1; white-space: nowrap; text-shadow: 1px 1px 0px white; position: absolute; left: 0; bottom: -8px\">D009270</span></span><span style=\"display: inline-block; vertical-align: top\"> alone did not </span></div><div><span style=\"display: inline-block; vertical-align: top\">affect either blood pressure or heart rate. In brain membranes from </span></div><div><span style=\"display: inline-block; vertical-align: top\">spontaneously </span><span style=\"display: inline-block; vertical-align: top; position: relative; margin-bottom: 11px\"><span style=\"border-bottom: 3px solid #ffcc80; padding-bottom: 8px\">hypertensive</span><span style=\"font-size: 11px; line-height: 1; white-space: nowrap; text-shadow: 1px 1px 0px white; position: absolute; left: 0; bottom: -8px\">D006973</span></span><span style=\"display: inline-block; vertical-align: top\"> rats </span><span style=\"display: inline-block; vertical-align: top; position: relative; margin-bottom: 11px\"><span style=\"border-bottom: 3px solid #ef9a9a; padding-bottom: 8px\">clonidine</span><span style=\"font-size: 11px; line-height: 1; white-space: nowrap; text-shadow: 1px 1px 0px white; position: absolute; left: 0; bottom: -8px\">D003000</span></span><span style=\"display: inline-block; vertical-align: top\">, 10(-8) to 10(-5) M, did not influence</span></div><div><span style=\"display: inline-block; vertical-align: top\"> stereoselective binding of [3H]-naloxone (8 nM), and </span><span style=\"display: inline-block; vertical-align: top; position: relative; margin-bottom: 11px\"><span style=\"border-bottom: 3px solid #a5d6a7; padding-bottom: 8px\">naloxone</span><span style=\"font-size: 11px; line-height: 1; white-space: nowrap; text-shadow: 1px 1px 0px white; position: absolute; left: 0; bottom: -8px\">D009270</span></span><span style=\"display: inline-block; vertical-align: top\">, 10(-8) to 10(-4)</span></div><div><span style=\"display: inline-block; vertical-align: top\"> M, did not influence </span><span style=\"display: inline-block; vertical-align: top; position: relative; margin-bottom: 11px\"><span style=\"border-bottom: 3px solid #ef9a9a; padding-bottom: 8px\">clonidine</span><span style=\"font-size: 11px; line-height: 1; white-space: nowrap; text-shadow: 1px 1px 0px white; position: absolute; left: 0; bottom: -8px\">D003000</span></span><span style=\"display: inline-block; vertical-align: top\">-suppressible binding of [3H]-dihydroergocryptine</span></div><div><span style=\"display: inline-block; vertical-align: top\"> (1 nM). These findings indicate that in spontaneously </span><span style=\"display: inline-block; vertical-align: top; position: relative; margin-bottom: 11px\"><span style=\"border-bottom: 3px solid #ffcc80; padding-bottom: 8px\">hypertensive</span><span style=\"font-size: 11px; line-height: 1; white-space: nowrap; text-shadow: 1px 1px 0px white; position: absolute; left: 0; bottom: -8px\">D006973</span></span><span style=\"display: inline-block; vertical-align: top\"> rats the </span></div><div><span style=\"display: inline-block; vertical-align: top\">effects of central alpha-adrenoceptor stimulation involve activation of opiate </span></div><div><span style=\"display: inline-block; vertical-align: top\">receptors. As </span><span style=\"display: inline-block; vertical-align: top; position: relative; margin-bottom: 11px\"><span style=\"border-bottom: 3px solid #a5d6a7; padding-bottom: 8px\">naloxone</span><span style=\"font-size: 11px; line-height: 1; white-space: nowrap; text-shadow: 1px 1px 0px white; position: absolute; left: 0; bottom: -8px\">D009270</span></span><span style=\"display: inline-block; vertical-align: top\"> and </span><span style=\"display: inline-block; vertical-align: top; position: relative; margin-bottom: 11px\"><span style=\"border-bottom: 3px solid #ef9a9a; padding-bottom: 8px\">clonidine</span><span style=\"font-size: 11px; line-height: 1; white-space: nowrap; text-shadow: 1px 1px 0px white; position: absolute; left: 0; bottom: -8px\">D003000</span></span><span style=\"display: inline-block; vertical-align: top\"> do not appear to interact with the same </span></div><div><span style=\"display: inline-block; vertical-align: top\">receptor site, the observed functional antagonism suggests the release of an </span></div><div><span style=\"display: inline-block; vertical-align: top\">endogenous opiate by </span><span style=\"display: inline-block; vertical-align: top; position: relative; margin-bottom: 11px\"><span style=\"border-bottom: 3px solid #ef9a9a; padding-bottom: 8px\">clonidine</span><span style=\"font-size: 11px; line-height: 1; white-space: nowrap; text-shadow: 1px 1px 0px white; position: absolute; left: 0; bottom: -8px\">D003000</span></span><span style=\"display: inline-block; vertical-align: top\"> or </span><span style=\"display: inline-block; vertical-align: top; position: relative; margin-bottom: 11px\"><span style=\"border-bottom: 3px solid #bcaaa4; padding-bottom: 8px\">alpha-methyldopa</span><span style=\"font-size: 11px; line-height: 1; white-space: nowrap; text-shadow: 1px 1px 0px white; position: absolute; left: 0; bottom: -8px\">D008750</span></span><span style=\"display: inline-block; vertical-align: top\"> and the possible role of the </span></div><div><span style=\"display: inline-block; vertical-align: top\">opiate in the central control of sympathetic tone.</span></div></div>"
      ],
      "text/plain": [
       "<IPython.core.display.HTML object>"
      ]
     },
     "metadata": {}
    },
    {
     "output_type": "stream",
     "name": "stdout",
     "text": [
      "Mentions Omitted: 0\n"
     ]
    },
    {
     "output_type": "error",
     "ename": "NameError",
     "evalue": "name 'displayHTML' is not defined",
     "traceback": [
      "\u001b[0;31m---------------------------------------------------------------------------\u001b[0m",
      "\u001b[0;31mNameError\u001b[0m                                 Traceback (most recent call last)",
      "Input \u001b[0;32mIn [7]\u001b[0m, in \u001b[0;36m<module>\u001b[0;34m\u001b[0m\n\u001b[1;32m     12\u001b[0m display(HTML(Displayer\u001b[38;5;241m.\u001b[39mdisplay(test_doc)))\n\u001b[1;32m     13\u001b[0m \u001b[38;5;28;01mfor\u001b[39;00m doc \u001b[38;5;129;01min\u001b[39;00m segment_document(test_doc,biomed_tokenizer,\u001b[38;5;241m8\u001b[39m):\n\u001b[0;32m---> 14\u001b[0m   \u001b[43mdisplayHTML\u001b[49m(Displayer\u001b[38;5;241m.\u001b[39mdisplay(doc))\n\u001b[1;32m     15\u001b[0m   \u001b[38;5;28mprint\u001b[39m(\u001b[38;5;124m\"\u001b[39m\u001b[38;5;124m-----------------------------------\u001b[39m\u001b[38;5;124m\"\u001b[39m)\n",
      "\u001b[0;31mNameError\u001b[0m: name 'displayHTML' is not defined"
     ]
    }
   ],
   "metadata": {}
  },
  {
   "cell_type": "code",
   "execution_count": null,
   "source": [],
   "outputs": [],
   "metadata": {}
  }
 ],
 "metadata": {
  "orig_nbformat": 4,
  "language_info": {
   "name": "python",
   "version": "3.8.12",
   "mimetype": "text/x-python",
   "codemirror_mode": {
    "name": "ipython",
    "version": 3
   },
   "pygments_lexer": "ipython3",
   "nbconvert_exporter": "python",
   "file_extension": ".py"
  },
  "kernelspec": {
   "name": "python3",
   "display_name": "Python 3.8.12 64-bit ('notebook': conda)"
  },
  "interpreter": {
   "hash": "af92f991aa0b26b1adc7f2eb5be811ea3ded4d7855b3e81fbf5a6cf06c0d3a1e"
  }
 },
 "nbformat": 4,
 "nbformat_minor": 2
}