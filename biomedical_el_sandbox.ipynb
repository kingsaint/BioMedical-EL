{
 "cells": [
  {
   "cell_type": "code",
   "execution_count": 2,
   "metadata": {},
   "outputs": [
    {
     "data": {
      "text/html": [
       "<div class=\"tex2jax_ignore\" style=\"white-space: pre-wrap\"><div><span style=\"display: inline-block; vertical-align: top\"></span><span style=\"display: inline-block; vertical-align: top; position: relative; margin-bottom: 11px\"><span style=\"border-bottom: 3px solid #b39ddb; padding-bottom: 8px\">Naloxone</span><span style=\"font-size: 11px; line-height: 1; white-space: nowrap; text-shadow: 1px 1px 0px white; position: absolute; left: 0; bottom: -8px\">Naloxone</span></span><span style=\"display: inline-block; vertical-align: top\"> reverses the antihypertensive effect of </span><span style=\"display: inline-block; vertical-align: top; position: relative; margin-bottom: 11px\"><span style=\"border-bottom: 3px solid #bcaaa4; padding-bottom: 8px\">clonidine</span><span style=\"font-size: 11px; line-height: 1; white-space: nowrap; text-shadow: 1px 1px 0px white; position: absolute; left: 0; bottom: -8px\">Clonidine</span></span><span style=\"display: inline-block; vertical-align: top\">. In unanesthetized, </span></div><div><span style=\"display: inline-block; vertical-align: top\">spontaneously </span><span style=\"display: inline-block; vertical-align: top; position: relative; margin-bottom: 11px\"><span style=\"border-bottom: 3px solid #90caf9; padding-bottom: 8px\">hypertensive</span><span style=\"font-size: 11px; line-height: 1; white-space: nowrap; text-shadow: 1px 1px 0px white; position: absolute; left: 0; bottom: -8px\">Hypertension</span></span><span style=\"display: inline-block; vertical-align: top\"> rats the decrease in blood pressure and heart rate </span></div><div><span style=\"display: inline-block; vertical-align: top\">produced by intravenous </span><span style=\"display: inline-block; vertical-align: top; position: relative; margin-bottom: 11px\"><span style=\"border-bottom: 3px solid #bcaaa4; padding-bottom: 8px\">clonidine</span><span style=\"font-size: 11px; line-height: 1; white-space: nowrap; text-shadow: 1px 1px 0px white; position: absolute; left: 0; bottom: -8px\">Clonidine</span></span><span style=\"display: inline-block; vertical-align: top\">, 5 to 20 micrograms/kg, was inhibited or </span></div><div><span style=\"display: inline-block; vertical-align: top\">reversed by nalozone, 0.2 to 2 mg/kg. The </span><span style=\"display: inline-block; vertical-align: top; position: relative; margin-bottom: 11px\"><span style=\"border-bottom: 3px solid #a5d6a7; padding-bottom: 8px\">hypotensive</span><span style=\"font-size: 11px; line-height: 1; white-space: nowrap; text-shadow: 1px 1px 0px white; position: absolute; left: 0; bottom: -8px\">Hypotension</span></span><span style=\"display: inline-block; vertical-align: top\"> effect of 100 mg/kg </span><span style=\"display: inline-block; vertical-align: top; position: relative; margin-bottom: 11px\"><span style=\"border-bottom: 3px solid #ef9a9a; padding-bottom: 8px\">alpha-</span><span style=\"font-size: 11px; line-height: 1; white-space: nowrap; text-shadow: 1px 1px 0px white; position: absolute; left: 0; bottom: -8px\">Methyldopa</span></span><span style=\"display: inline-block; vertical-align: top\"></span></div><div><span style=\"display: inline-block; vertical-align: top\"></span><span style=\"display: inline-block; vertical-align: top; position: relative; margin-bottom: 11px\"><span style=\"border-bottom: 3px solid #ef9a9a; padding-bottom: 8px\">methyldopa</span></span><span style=\"display: inline-block; vertical-align: top\"> was also partially reversed by </span><span style=\"display: inline-block; vertical-align: top; position: relative; margin-bottom: 11px\"><span style=\"border-bottom: 3px solid #b39ddb; padding-bottom: 8px\">naloxone</span><span style=\"font-size: 11px; line-height: 1; white-space: nowrap; text-shadow: 1px 1px 0px white; position: absolute; left: 0; bottom: -8px\">Naloxone</span></span><span style=\"display: inline-block; vertical-align: top\">. </span><span style=\"display: inline-block; vertical-align: top; position: relative; margin-bottom: 11px\"><span style=\"border-bottom: 3px solid #b39ddb; padding-bottom: 8px\">Naloxone</span><span style=\"font-size: 11px; line-height: 1; white-space: nowrap; text-shadow: 1px 1px 0px white; position: absolute; left: 0; bottom: -8px\">Naloxone</span></span><span style=\"display: inline-block; vertical-align: top\"> alone did not </span></div><div><span style=\"display: inline-block; vertical-align: top\">affect either blood pressure or heart rate. In brain membranes from </span></div><div><span style=\"display: inline-block; vertical-align: top\">spontaneously </span><span style=\"display: inline-block; vertical-align: top; position: relative; margin-bottom: 11px\"><span style=\"border-bottom: 3px solid #90caf9; padding-bottom: 8px\">hypertensive</span><span style=\"font-size: 11px; line-height: 1; white-space: nowrap; text-shadow: 1px 1px 0px white; position: absolute; left: 0; bottom: -8px\">Hypertension</span></span><span style=\"display: inline-block; vertical-align: top\"> rats </span><span style=\"display: inline-block; vertical-align: top; position: relative; margin-bottom: 11px\"><span style=\"border-bottom: 3px solid #bcaaa4; padding-bottom: 8px\">clonidine</span><span style=\"font-size: 11px; line-height: 1; white-space: nowrap; text-shadow: 1px 1px 0px white; position: absolute; left: 0; bottom: -8px\">Clonidine</span></span><span style=\"display: inline-block; vertical-align: top\">, 10(-8) to 10(-5) M, did not influence</span></div><div><span style=\"display: inline-block; vertical-align: top\"> stereoselective binding of [3H]-naloxone (8 nM), and </span><span style=\"display: inline-block; vertical-align: top; position: relative; margin-bottom: 11px\"><span style=\"border-bottom: 3px solid #b39ddb; padding-bottom: 8px\">naloxone</span><span style=\"font-size: 11px; line-height: 1; white-space: nowrap; text-shadow: 1px 1px 0px white; position: absolute; left: 0; bottom: -8px\">Naloxone</span></span><span style=\"display: inline-block; vertical-align: top\">, 10(-8) to 10(-4)</span></div><div><span style=\"display: inline-block; vertical-align: top\"> M, did not influence </span><span style=\"display: inline-block; vertical-align: top; position: relative; margin-bottom: 11px\"><span style=\"border-bottom: 3px solid #bcaaa4; padding-bottom: 8px\">clonidine</span><span style=\"font-size: 11px; line-height: 1; white-space: nowrap; text-shadow: 1px 1px 0px white; position: absolute; left: 0; bottom: -8px\">Clonidine</span></span><span style=\"display: inline-block; vertical-align: top\">-suppressible binding of [3H]-dihydroergocryptine</span></div><div><span style=\"display: inline-block; vertical-align: top\"> (1 nM). These findings indicate that in spontaneously </span><span style=\"display: inline-block; vertical-align: top; position: relative; margin-bottom: 11px\"><span style=\"border-bottom: 3px solid #90caf9; padding-bottom: 8px\">hypertensive</span><span style=\"font-size: 11px; line-height: 1; white-space: nowrap; text-shadow: 1px 1px 0px white; position: absolute; left: 0; bottom: -8px\">Hypertension</span></span><span style=\"display: inline-block; vertical-align: top\"> rats the </span></div><div><span style=\"display: inline-block; vertical-align: top\">effects of central alpha-adrenoceptor stimulation involve activation of opiate </span></div><div><span style=\"display: inline-block; vertical-align: top\">receptors. As </span><span style=\"display: inline-block; vertical-align: top; position: relative; margin-bottom: 11px\"><span style=\"border-bottom: 3px solid #b39ddb; padding-bottom: 8px\">naloxone</span><span style=\"font-size: 11px; line-height: 1; white-space: nowrap; text-shadow: 1px 1px 0px white; position: absolute; left: 0; bottom: -8px\">Naloxone</span></span><span style=\"display: inline-block; vertical-align: top\"> and </span><span style=\"display: inline-block; vertical-align: top; position: relative; margin-bottom: 11px\"><span style=\"border-bottom: 3px solid #bcaaa4; padding-bottom: 8px\">clonidine</span><span style=\"font-size: 11px; line-height: 1; white-space: nowrap; text-shadow: 1px 1px 0px white; position: absolute; left: 0; bottom: -8px\">Clonidine</span></span><span style=\"display: inline-block; vertical-align: top\"> do not appear to interact with the same </span></div><div><span style=\"display: inline-block; vertical-align: top\">receptor site, the observed functional antagonism suggests the release of an </span></div><div><span style=\"display: inline-block; vertical-align: top\">endogenous opiate by </span><span style=\"display: inline-block; vertical-align: top; position: relative; margin-bottom: 11px\"><span style=\"border-bottom: 3px solid #bcaaa4; padding-bottom: 8px\">clonidine</span><span style=\"font-size: 11px; line-height: 1; white-space: nowrap; text-shadow: 1px 1px 0px white; position: absolute; left: 0; bottom: -8px\">Clonidine</span></span><span style=\"display: inline-block; vertical-align: top\"> or </span><span style=\"display: inline-block; vertical-align: top; position: relative; margin-bottom: 11px\"><span style=\"border-bottom: 3px solid #ef9a9a; padding-bottom: 8px\">alpha-methyldopa</span><span style=\"font-size: 11px; line-height: 1; white-space: nowrap; text-shadow: 1px 1px 0px white; position: absolute; left: 0; bottom: -8px\">Methyldopa</span></span><span style=\"display: inline-block; vertical-align: top\"> and the possible role of the </span></div><div><span style=\"display: inline-block; vertical-align: top\">opiate in the central control of sympathetic tone.</span></div></div>"
      ],
      "text/plain": [
       "<IPython.core.display.HTML object>"
      ]
     },
     "metadata": {},
     "output_type": "display_data"
    },
    {
     "name": "stdout",
     "output_type": "stream",
     "text": [
      "Mentions Omitted: 0\n"
     ]
    },
    {
     "data": {
      "text/html": [
       "<div class=\"tex2jax_ignore\" style=\"white-space: pre-wrap\"><div><span style=\"display: inline-block; vertical-align: top\"></span><span style=\"display: inline-block; vertical-align: top; position: relative; margin-bottom: 11px\"><span style=\"border-bottom: 3px solid #b39ddb; padding-bottom: 8px\">Naloxone</span><span style=\"font-size: 11px; line-height: 1; white-space: nowrap; text-shadow: 1px 1px 0px white; position: absolute; left: 0; bottom: -8px\">Naloxone</span></span><span style=\"display: inline-block; vertical-align: top\"> reverses the antihypertensive effect of </span><span style=\"display: inline-block; vertical-align: top; position: relative; margin-bottom: 11px\"><span style=\"border-bottom: 3px solid #bcaaa4; padding-bottom: 8px\">clonidine</span><span style=\"font-size: 11px; line-height: 1; white-space: nowrap; text-shadow: 1px 1px 0px white; position: absolute; left: 0; bottom: -8px\">Clonidine</span></span><span style=\"display: inline-block; vertical-align: top\">. In unanesthetized, </span></div><div><span style=\"display: inline-block; vertical-align: top\">spontaneously </span><span style=\"display: inline-block; vertical-align: top; position: relative; margin-bottom: 11px\"><span style=\"border-bottom: 3px solid #90caf9; padding-bottom: 8px\">hypertensive</span><span style=\"font-size: 11px; line-height: 1; white-space: nowrap; text-shadow: 1px 1px 0px white; position: absolute; left: 0; bottom: -8px\">Hypertension</span></span><span style=\"display: inline-block; vertical-align: top\"> rats the decrease in blood pressure and heart rate </span></div><div><span style=\"display: inline-block; vertical-align: top\">produced by intravenous </span><span style=\"display: inline-block; vertical-align: top; position: relative; margin-bottom: 11px\"><span style=\"border-bottom: 3px solid #bcaaa4; padding-bottom: 8px\">clonidine</span><span style=\"font-size: 11px; line-height: 1; white-space: nowrap; text-shadow: 1px 1px 0px white; position: absolute; left: 0; bottom: -8px\">Clonidine</span></span><span style=\"display: inline-block; vertical-align: top\">, 5 to 20 micrograms/kg, was inhibited or </span></div><div><span style=\"display: inline-block; vertical-align: top\">reversed by nalozone, 0.2 to 2 mg/kg. The </span><span style=\"display: inline-block; vertical-align: top; position: relative; margin-bottom: 11px\"><span style=\"border-bottom: 3px solid #a5d6a7; padding-bottom: 8px\">hypotensive</span><span style=\"font-size: 11px; line-height: 1; white-space: nowrap; text-shadow: 1px 1px 0px white; position: absolute; left: 0; bottom: -8px\">Hypotension</span></span><span style=\"display: inline-block; vertical-align: top\"> effect of 100 mg/kg </span><span style=\"display: inline-block; vertical-align: top; position: relative; margin-bottom: 11px\"><span style=\"border-bottom: 3px solid #ef9a9a; padding-bottom: 8px\">alpha-</span><span style=\"font-size: 11px; line-height: 1; white-space: nowrap; text-shadow: 1px 1px 0px white; position: absolute; left: 0; bottom: -8px\">Methyldopa</span></span><span style=\"display: inline-block; vertical-align: top\"></span></div><div><span style=\"display: inline-block; vertical-align: top\"></span><span style=\"display: inline-block; vertical-align: top; position: relative; margin-bottom: 11px\"><span style=\"border-bottom: 3px solid #ef9a9a; padding-bottom: 8px\">methyldopa</span></span><span style=\"display: inline-block; vertical-align: top\"> was also partially reversed by </span><span style=\"display: inline-block; vertical-align: top; position: relative; margin-bottom: 11px\"><span style=\"border-bottom: 3px solid #b39ddb; padding-bottom: 8px\">naloxone</span><span style=\"font-size: 11px; line-height: 1; white-space: nowrap; text-shadow: 1px 1px 0px white; position: absolute; left: 0; bottom: -8px\">Naloxone</span></span><span style=\"display: inline-block; vertical-align: top\">. </span><span style=\"display: inline-block; vertical-align: top; position: relative; margin-bottom: 11px\"><span style=\"border-bottom: 3px solid #b39ddb; padding-bottom: 8px\">Naloxone</span><span style=\"font-size: 11px; line-height: 1; white-space: nowrap; text-shadow: 1px 1px 0px white; position: absolute; left: 0; bottom: -8px\">Naloxone</span></span><span style=\"display: inline-block; vertical-align: top\"></span></div></div>"
      ],
      "text/plain": [
       "<IPython.core.display.HTML object>"
      ]
     },
     "metadata": {},
     "output_type": "display_data"
    },
    {
     "name": "stdout",
     "output_type": "stream",
     "text": [
      "-----------------------------------\n"
     ]
    },
    {
     "data": {
      "text/html": [
       "<div class=\"tex2jax_ignore\" style=\"white-space: pre-wrap\"><div><span style=\"display: inline-block; vertical-align: top\"> alone did not affect either blood pressure or heart rate. In brain membranes </span></div><div><span style=\"display: inline-block; vertical-align: top\">from spontaneously </span><span style=\"display: inline-block; vertical-align: top; position: relative; margin-bottom: 11px\"><span style=\"border-bottom: 3px solid #90caf9; padding-bottom: 8px\">hypertensive</span><span style=\"font-size: 11px; line-height: 1; white-space: nowrap; text-shadow: 1px 1px 0px white; position: absolute; left: 0; bottom: -8px\">Hypertension</span></span><span style=\"display: inline-block; vertical-align: top\"> rats </span><span style=\"display: inline-block; vertical-align: top; position: relative; margin-bottom: 11px\"><span style=\"border-bottom: 3px solid #bcaaa4; padding-bottom: 8px\">clonidine</span><span style=\"font-size: 11px; line-height: 1; white-space: nowrap; text-shadow: 1px 1px 0px white; position: absolute; left: 0; bottom: -8px\">Clonidine</span></span><span style=\"display: inline-block; vertical-align: top\">, 10(-8) to 10(-5) M, did not </span></div><div><span style=\"display: inline-block; vertical-align: top\">influence stereoselective binding of [3H]-naloxone (8 nM), and </span><span style=\"display: inline-block; vertical-align: top; position: relative; margin-bottom: 11px\"><span style=\"border-bottom: 3px solid #b39ddb; padding-bottom: 8px\">naloxone</span><span style=\"font-size: 11px; line-height: 1; white-space: nowrap; text-shadow: 1px 1px 0px white; position: absolute; left: 0; bottom: -8px\">Naloxone</span></span><span style=\"display: inline-block; vertical-align: top\">, 10(-8) </span></div><div><span style=\"display: inline-block; vertical-align: top\">to 10(-4) M, did not influence </span><span style=\"display: inline-block; vertical-align: top; position: relative; margin-bottom: 11px\"><span style=\"border-bottom: 3px solid #bcaaa4; padding-bottom: 8px\">clonidine</span><span style=\"font-size: 11px; line-height: 1; white-space: nowrap; text-shadow: 1px 1px 0px white; position: absolute; left: 0; bottom: -8px\">Clonidine</span></span><span style=\"display: inline-block; vertical-align: top\">-suppressible binding of </span></div><div><span style=\"display: inline-block; vertical-align: top\">[3H]-dihydroergocryptine (1 nM). These findings indicate that in spontaneously </span></div><div><span style=\"display: inline-block; vertical-align: top\"></span><span style=\"display: inline-block; vertical-align: top; position: relative; margin-bottom: 11px\"><span style=\"border-bottom: 3px solid #90caf9; padding-bottom: 8px\">hypertensive</span><span style=\"font-size: 11px; line-height: 1; white-space: nowrap; text-shadow: 1px 1px 0px white; position: absolute; left: 0; bottom: -8px\">Hypertension</span></span><span style=\"display: inline-block; vertical-align: top\"> rats the effects of central alpha-adrenoceptor stimulation involve </span></div><div><span style=\"display: inline-block; vertical-align: top\">activation of opiate receptors. As </span><span style=\"display: inline-block; vertical-align: top; position: relative; margin-bottom: 11px\"><span style=\"border-bottom: 3px solid #b39ddb; padding-bottom: 8px\">naloxone</span><span style=\"font-size: 11px; line-height: 1; white-space: nowrap; text-shadow: 1px 1px 0px white; position: absolute; left: 0; bottom: -8px\">Naloxone</span></span><span style=\"display: inline-block; vertical-align: top\"> and </span><span style=\"display: inline-block; vertical-align: top; position: relative; margin-bottom: 11px\"><span style=\"border-bottom: 3px solid #bcaaa4; padding-bottom: 8px\">clonidine</span><span style=\"font-size: 11px; line-height: 1; white-space: nowrap; text-shadow: 1px 1px 0px white; position: absolute; left: 0; bottom: -8px\">Clonidine</span></span><span style=\"display: inline-block; vertical-align: top\"> do not appear to </span></div><div><span style=\"display: inline-block; vertical-align: top\">interact with the same receptor site, the observed functional antagonism </span></div><div><span style=\"display: inline-block; vertical-align: top\">suggests the release of an endogenous opiate by </span><span style=\"display: inline-block; vertical-align: top; position: relative; margin-bottom: 11px\"><span style=\"border-bottom: 3px solid #bcaaa4; padding-bottom: 8px\">clonidine</span><span style=\"font-size: 11px; line-height: 1; white-space: nowrap; text-shadow: 1px 1px 0px white; position: absolute; left: 0; bottom: -8px\">Clonidine</span></span><span style=\"display: inline-block; vertical-align: top\"></span></div></div>"
      ],
      "text/plain": [
       "<IPython.core.display.HTML object>"
      ]
     },
     "metadata": {},
     "output_type": "display_data"
    },
    {
     "name": "stdout",
     "output_type": "stream",
     "text": [
      "-----------------------------------\n"
     ]
    },
    {
     "data": {
      "text/html": [
       "<div class=\"tex2jax_ignore\" style=\"white-space: pre-wrap\"><div><span style=\"display: inline-block; vertical-align: top\"> or </span><span style=\"display: inline-block; vertical-align: top; position: relative; margin-bottom: 11px\"><span style=\"border-bottom: 3px solid #ef9a9a; padding-bottom: 8px\">alpha-methyldopa</span><span style=\"font-size: 11px; line-height: 1; white-space: nowrap; text-shadow: 1px 1px 0px white; position: absolute; left: 0; bottom: -8px\">Methyldopa</span></span><span style=\"display: inline-block; vertical-align: top\"> and the possible role of the opiate in the central control </span></div><div><span style=\"display: inline-block; vertical-align: top\">of sympathetic tone.</span></div></div>"
      ],
      "text/plain": [
       "<IPython.core.display.HTML object>"
      ]
     },
     "metadata": {},
     "output_type": "display_data"
    },
    {
     "name": "stdout",
     "output_type": "stream",
     "text": [
      "-----------------------------------\n"
     ]
    }
   ],
   "source": [
    "from el_toolkit.document import Document\n",
    "from el_toolkit.data_processors import segment_document\n",
    "from el_toolkit.data_displayer import Displayer\n",
    "from el_toolkit.lexical_knowledge_base import WordNet_Lexical_Knowledge_Base,Knowledge_Data\n",
    "from transformers import BertTokenizer\n",
    "from IPython.display import display, HTML\n",
    "\n",
    "biomed_tokenizer = BertTokenizer.from_pretrained(pretrained_model_name_or_path='monologg/biobert_v1.1_pubmed',\n",
    "                                            do_lower_case=False, cache_dir=None)\n",
    "\n",
    "lkb = WordNet_Lexical_Knowledge_Base.read_json(\"data/knowledge_datasets/mesh_subset.json\")\n",
    "\n",
    "test_doc = Document.read_json(\"./tests/test_data/test_docs/without_overlaps/17_mentions.json\")\n",
    "\n",
    "display(HTML(Displayer.display(test_doc,lkb)))\n",
    "for doc in segment_document(test_doc,biomed_tokenizer,8):\n",
    "  display(HTML(Displayer.display(doc,lkb)))\n",
    "  print(\"-----------------------------------\")\n"
   ]
  },
  {
   "cell_type": "code",
   "execution_count": 1,
   "metadata": {},
   "outputs": [],
   "source": [
    "from el_toolkit.lkb.wordnet_lkb import WordNet_Lexical_Knowledge_Base"
   ]
  },
  {
   "cell_type": "code",
   "execution_count": 2,
   "metadata": {},
   "outputs": [],
   "source": [
    "wn = WordNet_Lexical_Knowledge_Base.read_json(\"data/knowledge_datasets/trend.json\")"
   ]
  },
  {
   "cell_type": "code",
   "execution_count": 4,
   "metadata": {},
   "outputs": [],
   "source": [
    "occupations = wn.derive_domain(\"C0028811\",\"isa\")"
   ]
  },
  {
   "cell_type": "code",
   "execution_count": 5,
   "metadata": {},
   "outputs": [
    {
     "data": {
      "text/plain": [
       "6137"
      ]
     },
     "execution_count": 5,
     "metadata": {},
     "output_type": "execute_result"
    }
   ],
   "source": [
    "len(occupations)"
   ]
  }
 ],
 "metadata": {
  "interpreter": {
   "hash": "af92f991aa0b26b1adc7f2eb5be811ea3ded4d7855b3e81fbf5a6cf06c0d3a1e"
  },
  "kernelspec": {
   "display_name": "Python 3.8.12 64-bit ('notebook': conda)",
   "name": "python3"
  },
  "language_info": {
   "codemirror_mode": {
    "name": "ipython",
    "version": 3
   },
   "file_extension": ".py",
   "mimetype": "text/x-python",
   "name": "python",
   "nbconvert_exporter": "python",
   "pygments_lexer": "ipython3",
   "version": "3.8.12"
  },
  "orig_nbformat": 4
 },
 "nbformat": 4,
 "nbformat_minor": 2
}
