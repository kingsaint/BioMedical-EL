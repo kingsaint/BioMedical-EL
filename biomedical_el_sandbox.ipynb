{
 "cells": [
  {
   "cell_type": "code",
   "execution_count": 2,
   "source": [
    "from el_toolkit.document import Document\n",
    "from el_toolkit.data_processors import segment_document\n",
    "from el_toolkit.data_displayer import Displayer\n",
    "from el_toolkit.lexical_knowledge_base import WordNet_Lexical_Knowledge_Base,Knowledge_Data\n",
    "from transformers import BertTokenizer\n",
    "from IPython.display import display, HTML\n",
    "\n",
    "biomed_tokenizer = BertTokenizer.from_pretrained(pretrained_model_name_or_path='monologg/biobert_v1.1_pubmed',\n",
    "                                            do_lower_case=False, cache_dir=None)\n",
    "\n",
    "lkb = WordNet_Lexical_Knowledge_Base.read_json(\"data/knowledge_datasets/mesh_subset.json\")\n",
    "\n",
    "test_doc = Document.read_json(\"./tests/test_data/test_docs/without_overlaps/17_mentions.json\")\n",
    "\n",
    "display(HTML(Displayer.display(test_doc,lkb)))\n",
    "for doc in segment_document(test_doc,biomed_tokenizer,8):\n",
    "  display(HTML(Displayer.display(doc,lkb)))\n",
    "  print(\"-----------------------------------\")\n"
   ],
   "outputs": [
    {
     "output_type": "display_data",
     "data": {
      "text/html": [
       "<div class=\"tex2jax_ignore\" style=\"white-space: pre-wrap\"><div><span style=\"display: inline-block; vertical-align: top\"></span><span style=\"display: inline-block; vertical-align: top; position: relative; margin-bottom: 11px\"><span style=\"border-bottom: 3px solid #b39ddb; padding-bottom: 8px\">Naloxone</span><span style=\"font-size: 11px; line-height: 1; white-space: nowrap; text-shadow: 1px 1px 0px white; position: absolute; left: 0; bottom: -8px\">Naloxone</span></span><span style=\"display: inline-block; vertical-align: top\"> reverses the antihypertensive effect of </span><span style=\"display: inline-block; vertical-align: top; position: relative; margin-bottom: 11px\"><span style=\"border-bottom: 3px solid #bcaaa4; padding-bottom: 8px\">clonidine</span><span style=\"font-size: 11px; line-height: 1; white-space: nowrap; text-shadow: 1px 1px 0px white; position: absolute; left: 0; bottom: -8px\">Clonidine</span></span><span style=\"display: inline-block; vertical-align: top\">. In unanesthetized, </span></div><div><span style=\"display: inline-block; vertical-align: top\">spontaneously </span><span style=\"display: inline-block; vertical-align: top; position: relative; margin-bottom: 11px\"><span style=\"border-bottom: 3px solid #90caf9; padding-bottom: 8px\">hypertensive</span><span style=\"font-size: 11px; line-height: 1; white-space: nowrap; text-shadow: 1px 1px 0px white; position: absolute; left: 0; bottom: -8px\">Hypertension</span></span><span style=\"display: inline-block; vertical-align: top\"> rats the decrease in blood pressure and heart rate </span></div><div><span style=\"display: inline-block; vertical-align: top\">produced by intravenous </span><span style=\"display: inline-block; vertical-align: top; position: relative; margin-bottom: 11px\"><span style=\"border-bottom: 3px solid #bcaaa4; padding-bottom: 8px\">clonidine</span><span style=\"font-size: 11px; line-height: 1; white-space: nowrap; text-shadow: 1px 1px 0px white; position: absolute; left: 0; bottom: -8px\">Clonidine</span></span><span style=\"display: inline-block; vertical-align: top\">, 5 to 20 micrograms/kg, was inhibited or </span></div><div><span style=\"display: inline-block; vertical-align: top\">reversed by nalozone, 0.2 to 2 mg/kg. The </span><span style=\"display: inline-block; vertical-align: top; position: relative; margin-bottom: 11px\"><span style=\"border-bottom: 3px solid #a5d6a7; padding-bottom: 8px\">hypotensive</span><span style=\"font-size: 11px; line-height: 1; white-space: nowrap; text-shadow: 1px 1px 0px white; position: absolute; left: 0; bottom: -8px\">Hypotension</span></span><span style=\"display: inline-block; vertical-align: top\"> effect of 100 mg/kg </span><span style=\"display: inline-block; vertical-align: top; position: relative; margin-bottom: 11px\"><span style=\"border-bottom: 3px solid #ef9a9a; padding-bottom: 8px\">alpha-</span><span style=\"font-size: 11px; line-height: 1; white-space: nowrap; text-shadow: 1px 1px 0px white; position: absolute; left: 0; bottom: -8px\">Methyldopa</span></span><span style=\"display: inline-block; vertical-align: top\"></span></div><div><span style=\"display: inline-block; vertical-align: top\"></span><span style=\"display: inline-block; vertical-align: top; position: relative; margin-bottom: 11px\"><span style=\"border-bottom: 3px solid #ef9a9a; padding-bottom: 8px\">methyldopa</span></span><span style=\"display: inline-block; vertical-align: top\"> was also partially reversed by </span><span style=\"display: inline-block; vertical-align: top; position: relative; margin-bottom: 11px\"><span style=\"border-bottom: 3px solid #b39ddb; padding-bottom: 8px\">naloxone</span><span style=\"font-size: 11px; line-height: 1; white-space: nowrap; text-shadow: 1px 1px 0px white; position: absolute; left: 0; bottom: -8px\">Naloxone</span></span><span style=\"display: inline-block; vertical-align: top\">. </span><span style=\"display: inline-block; vertical-align: top; position: relative; margin-bottom: 11px\"><span style=\"border-bottom: 3px solid #b39ddb; padding-bottom: 8px\">Naloxone</span><span style=\"font-size: 11px; line-height: 1; white-space: nowrap; text-shadow: 1px 1px 0px white; position: absolute; left: 0; bottom: -8px\">Naloxone</span></span><span style=\"display: inline-block; vertical-align: top\"> alone did not </span></div><div><span style=\"display: inline-block; vertical-align: top\">affect either blood pressure or heart rate. In brain membranes from </span></div><div><span style=\"display: inline-block; vertical-align: top\">spontaneously </span><span style=\"display: inline-block; vertical-align: top; position: relative; margin-bottom: 11px\"><span style=\"border-bottom: 3px solid #90caf9; padding-bottom: 8px\">hypertensive</span><span style=\"font-size: 11px; line-height: 1; white-space: nowrap; text-shadow: 1px 1px 0px white; position: absolute; left: 0; bottom: -8px\">Hypertension</span></span><span style=\"display: inline-block; vertical-align: top\"> rats </span><span style=\"display: inline-block; vertical-align: top; position: relative; margin-bottom: 11px\"><span style=\"border-bottom: 3px solid #bcaaa4; padding-bottom: 8px\">clonidine</span><span style=\"font-size: 11px; line-height: 1; white-space: nowrap; text-shadow: 1px 1px 0px white; position: absolute; left: 0; bottom: -8px\">Clonidine</span></span><span style=\"display: inline-block; vertical-align: top\">, 10(-8) to 10(-5) M, did not influence</span></div><div><span style=\"display: inline-block; vertical-align: top\"> stereoselective binding of [3H]-naloxone (8 nM), and </span><span style=\"display: inline-block; vertical-align: top; position: relative; margin-bottom: 11px\"><span style=\"border-bottom: 3px solid #b39ddb; padding-bottom: 8px\">naloxone</span><span style=\"font-size: 11px; line-height: 1; white-space: nowrap; text-shadow: 1px 1px 0px white; position: absolute; left: 0; bottom: -8px\">Naloxone</span></span><span style=\"display: inline-block; vertical-align: top\">, 10(-8) to 10(-4)</span></div><div><span style=\"display: inline-block; vertical-align: top\"> M, did not influence </span><span style=\"display: inline-block; vertical-align: top; position: relative; margin-bottom: 11px\"><span style=\"border-bottom: 3px solid #bcaaa4; padding-bottom: 8px\">clonidine</span><span style=\"font-size: 11px; line-height: 1; white-space: nowrap; text-shadow: 1px 1px 0px white; position: absolute; left: 0; bottom: -8px\">Clonidine</span></span><span style=\"display: inline-block; vertical-align: top\">-suppressible binding of [3H]-dihydroergocryptine</span></div><div><span style=\"display: inline-block; vertical-align: top\"> (1 nM). These findings indicate that in spontaneously </span><span style=\"display: inline-block; vertical-align: top; position: relative; margin-bottom: 11px\"><span style=\"border-bottom: 3px solid #90caf9; padding-bottom: 8px\">hypertensive</span><span style=\"font-size: 11px; line-height: 1; white-space: nowrap; text-shadow: 1px 1px 0px white; position: absolute; left: 0; bottom: -8px\">Hypertension</span></span><span style=\"display: inline-block; vertical-align: top\"> rats the </span></div><div><span style=\"display: inline-block; vertical-align: top\">effects of central alpha-adrenoceptor stimulation involve activation of opiate </span></div><div><span style=\"display: inline-block; vertical-align: top\">receptors. As </span><span style=\"display: inline-block; vertical-align: top; position: relative; margin-bottom: 11px\"><span style=\"border-bottom: 3px solid #b39ddb; padding-bottom: 8px\">naloxone</span><span style=\"font-size: 11px; line-height: 1; white-space: nowrap; text-shadow: 1px 1px 0px white; position: absolute; left: 0; bottom: -8px\">Naloxone</span></span><span style=\"display: inline-block; vertical-align: top\"> and </span><span style=\"display: inline-block; vertical-align: top; position: relative; margin-bottom: 11px\"><span style=\"border-bottom: 3px solid #bcaaa4; padding-bottom: 8px\">clonidine</span><span style=\"font-size: 11px; line-height: 1; white-space: nowrap; text-shadow: 1px 1px 0px white; position: absolute; left: 0; bottom: -8px\">Clonidine</span></span><span style=\"display: inline-block; vertical-align: top\"> do not appear to interact with the same </span></div><div><span style=\"display: inline-block; vertical-align: top\">receptor site, the observed functional antagonism suggests the release of an </span></div><div><span style=\"display: inline-block; vertical-align: top\">endogenous opiate by </span><span style=\"display: inline-block; vertical-align: top; position: relative; margin-bottom: 11px\"><span style=\"border-bottom: 3px solid #bcaaa4; padding-bottom: 8px\">clonidine</span><span style=\"font-size: 11px; line-height: 1; white-space: nowrap; text-shadow: 1px 1px 0px white; position: absolute; left: 0; bottom: -8px\">Clonidine</span></span><span style=\"display: inline-block; vertical-align: top\"> or </span><span style=\"display: inline-block; vertical-align: top; position: relative; margin-bottom: 11px\"><span style=\"border-bottom: 3px solid #ef9a9a; padding-bottom: 8px\">alpha-methyldopa</span><span style=\"font-size: 11px; line-height: 1; white-space: nowrap; text-shadow: 1px 1px 0px white; position: absolute; left: 0; bottom: -8px\">Methyldopa</span></span><span style=\"display: inline-block; vertical-align: top\"> and the possible role of the </span></div><div><span style=\"display: inline-block; vertical-align: top\">opiate in the central control of sympathetic tone.</span></div></div>"
      ],
      "text/plain": [
       "<IPython.core.display.HTML object>"
      ]
     },
     "metadata": {}
    },
    {
     "output_type": "stream",
     "name": "stdout",
     "text": [
      "Mentions Omitted: 0\n"
     ]
    },
    {
     "output_type": "display_data",
     "data": {
      "text/html": [
       "<div class=\"tex2jax_ignore\" style=\"white-space: pre-wrap\"><div><span style=\"display: inline-block; vertical-align: top\"></span><span style=\"display: inline-block; vertical-align: top; position: relative; margin-bottom: 11px\"><span style=\"border-bottom: 3px solid #b39ddb; padding-bottom: 8px\">Naloxone</span><span style=\"font-size: 11px; line-height: 1; white-space: nowrap; text-shadow: 1px 1px 0px white; position: absolute; left: 0; bottom: -8px\">Naloxone</span></span><span style=\"display: inline-block; vertical-align: top\"> reverses the antihypertensive effect of </span><span style=\"display: inline-block; vertical-align: top; position: relative; margin-bottom: 11px\"><span style=\"border-bottom: 3px solid #bcaaa4; padding-bottom: 8px\">clonidine</span><span style=\"font-size: 11px; line-height: 1; white-space: nowrap; text-shadow: 1px 1px 0px white; position: absolute; left: 0; bottom: -8px\">Clonidine</span></span><span style=\"display: inline-block; vertical-align: top\">. In unanesthetized, </span></div><div><span style=\"display: inline-block; vertical-align: top\">spontaneously </span><span style=\"display: inline-block; vertical-align: top; position: relative; margin-bottom: 11px\"><span style=\"border-bottom: 3px solid #90caf9; padding-bottom: 8px\">hypertensive</span><span style=\"font-size: 11px; line-height: 1; white-space: nowrap; text-shadow: 1px 1px 0px white; position: absolute; left: 0; bottom: -8px\">Hypertension</span></span><span style=\"display: inline-block; vertical-align: top\"> rats the decrease in blood pressure and heart rate </span></div><div><span style=\"display: inline-block; vertical-align: top\">produced by intravenous </span><span style=\"display: inline-block; vertical-align: top; position: relative; margin-bottom: 11px\"><span style=\"border-bottom: 3px solid #bcaaa4; padding-bottom: 8px\">clonidine</span><span style=\"font-size: 11px; line-height: 1; white-space: nowrap; text-shadow: 1px 1px 0px white; position: absolute; left: 0; bottom: -8px\">Clonidine</span></span><span style=\"display: inline-block; vertical-align: top\">, 5 to 20 micrograms/kg, was inhibited or </span></div><div><span style=\"display: inline-block; vertical-align: top\">reversed by nalozone, 0.2 to 2 mg/kg. The </span><span style=\"display: inline-block; vertical-align: top; position: relative; margin-bottom: 11px\"><span style=\"border-bottom: 3px solid #a5d6a7; padding-bottom: 8px\">hypotensive</span><span style=\"font-size: 11px; line-height: 1; white-space: nowrap; text-shadow: 1px 1px 0px white; position: absolute; left: 0; bottom: -8px\">Hypotension</span></span><span style=\"display: inline-block; vertical-align: top\"> effect of 100 mg/kg </span><span style=\"display: inline-block; vertical-align: top; position: relative; margin-bottom: 11px\"><span style=\"border-bottom: 3px solid #ef9a9a; padding-bottom: 8px\">alpha-</span><span style=\"font-size: 11px; line-height: 1; white-space: nowrap; text-shadow: 1px 1px 0px white; position: absolute; left: 0; bottom: -8px\">Methyldopa</span></span><span style=\"display: inline-block; vertical-align: top\"></span></div><div><span style=\"display: inline-block; vertical-align: top\"></span><span style=\"display: inline-block; vertical-align: top; position: relative; margin-bottom: 11px\"><span style=\"border-bottom: 3px solid #ef9a9a; padding-bottom: 8px\">methyldopa</span></span><span style=\"display: inline-block; vertical-align: top\"> was also partially reversed by </span><span style=\"display: inline-block; vertical-align: top; position: relative; margin-bottom: 11px\"><span style=\"border-bottom: 3px solid #b39ddb; padding-bottom: 8px\">naloxone</span><span style=\"font-size: 11px; line-height: 1; white-space: nowrap; text-shadow: 1px 1px 0px white; position: absolute; left: 0; bottom: -8px\">Naloxone</span></span><span style=\"display: inline-block; vertical-align: top\">. </span><span style=\"display: inline-block; vertical-align: top; position: relative; margin-bottom: 11px\"><span style=\"border-bottom: 3px solid #b39ddb; padding-bottom: 8px\">Naloxone</span><span style=\"font-size: 11px; line-height: 1; white-space: nowrap; text-shadow: 1px 1px 0px white; position: absolute; left: 0; bottom: -8px\">Naloxone</span></span><span style=\"display: inline-block; vertical-align: top\"></span></div></div>"
      ],
      "text/plain": [
       "<IPython.core.display.HTML object>"
      ]
     },
     "metadata": {}
    },
    {
     "output_type": "stream",
     "name": "stdout",
     "text": [
      "-----------------------------------\n"
     ]
    },
    {
     "output_type": "display_data",
     "data": {
      "text/html": [
       "<div class=\"tex2jax_ignore\" style=\"white-space: pre-wrap\"><div><span style=\"display: inline-block; vertical-align: top\"> alone did not affect either blood pressure or heart rate. In brain membranes </span></div><div><span style=\"display: inline-block; vertical-align: top\">from spontaneously </span><span style=\"display: inline-block; vertical-align: top; position: relative; margin-bottom: 11px\"><span style=\"border-bottom: 3px solid #90caf9; padding-bottom: 8px\">hypertensive</span><span style=\"font-size: 11px; line-height: 1; white-space: nowrap; text-shadow: 1px 1px 0px white; position: absolute; left: 0; bottom: -8px\">Hypertension</span></span><span style=\"display: inline-block; vertical-align: top\"> rats </span><span style=\"display: inline-block; vertical-align: top; position: relative; margin-bottom: 11px\"><span style=\"border-bottom: 3px solid #bcaaa4; padding-bottom: 8px\">clonidine</span><span style=\"font-size: 11px; line-height: 1; white-space: nowrap; text-shadow: 1px 1px 0px white; position: absolute; left: 0; bottom: -8px\">Clonidine</span></span><span style=\"display: inline-block; vertical-align: top\">, 10(-8) to 10(-5) M, did not </span></div><div><span style=\"display: inline-block; vertical-align: top\">influence stereoselective binding of [3H]-naloxone (8 nM), and </span><span style=\"display: inline-block; vertical-align: top; position: relative; margin-bottom: 11px\"><span style=\"border-bottom: 3px solid #b39ddb; padding-bottom: 8px\">naloxone</span><span style=\"font-size: 11px; line-height: 1; white-space: nowrap; text-shadow: 1px 1px 0px white; position: absolute; left: 0; bottom: -8px\">Naloxone</span></span><span style=\"display: inline-block; vertical-align: top\">, 10(-8) </span></div><div><span style=\"display: inline-block; vertical-align: top\">to 10(-4) M, did not influence </span><span style=\"display: inline-block; vertical-align: top; position: relative; margin-bottom: 11px\"><span style=\"border-bottom: 3px solid #bcaaa4; padding-bottom: 8px\">clonidine</span><span style=\"font-size: 11px; line-height: 1; white-space: nowrap; text-shadow: 1px 1px 0px white; position: absolute; left: 0; bottom: -8px\">Clonidine</span></span><span style=\"display: inline-block; vertical-align: top\">-suppressible binding of </span></div><div><span style=\"display: inline-block; vertical-align: top\">[3H]-dihydroergocryptine (1 nM). These findings indicate that in spontaneously </span></div><div><span style=\"display: inline-block; vertical-align: top\"></span><span style=\"display: inline-block; vertical-align: top; position: relative; margin-bottom: 11px\"><span style=\"border-bottom: 3px solid #90caf9; padding-bottom: 8px\">hypertensive</span><span style=\"font-size: 11px; line-height: 1; white-space: nowrap; text-shadow: 1px 1px 0px white; position: absolute; left: 0; bottom: -8px\">Hypertension</span></span><span style=\"display: inline-block; vertical-align: top\"> rats the effects of central alpha-adrenoceptor stimulation involve </span></div><div><span style=\"display: inline-block; vertical-align: top\">activation of opiate receptors. As </span><span style=\"display: inline-block; vertical-align: top; position: relative; margin-bottom: 11px\"><span style=\"border-bottom: 3px solid #b39ddb; padding-bottom: 8px\">naloxone</span><span style=\"font-size: 11px; line-height: 1; white-space: nowrap; text-shadow: 1px 1px 0px white; position: absolute; left: 0; bottom: -8px\">Naloxone</span></span><span style=\"display: inline-block; vertical-align: top\"> and </span><span style=\"display: inline-block; vertical-align: top; position: relative; margin-bottom: 11px\"><span style=\"border-bottom: 3px solid #bcaaa4; padding-bottom: 8px\">clonidine</span><span style=\"font-size: 11px; line-height: 1; white-space: nowrap; text-shadow: 1px 1px 0px white; position: absolute; left: 0; bottom: -8px\">Clonidine</span></span><span style=\"display: inline-block; vertical-align: top\"> do not appear to </span></div><div><span style=\"display: inline-block; vertical-align: top\">interact with the same receptor site, the observed functional antagonism </span></div><div><span style=\"display: inline-block; vertical-align: top\">suggests the release of an endogenous opiate by </span><span style=\"display: inline-block; vertical-align: top; position: relative; margin-bottom: 11px\"><span style=\"border-bottom: 3px solid #bcaaa4; padding-bottom: 8px\">clonidine</span><span style=\"font-size: 11px; line-height: 1; white-space: nowrap; text-shadow: 1px 1px 0px white; position: absolute; left: 0; bottom: -8px\">Clonidine</span></span><span style=\"display: inline-block; vertical-align: top\"></span></div></div>"
      ],
      "text/plain": [
       "<IPython.core.display.HTML object>"
      ]
     },
     "metadata": {}
    },
    {
     "output_type": "stream",
     "name": "stdout",
     "text": [
      "-----------------------------------\n"
     ]
    },
    {
     "output_type": "display_data",
     "data": {
      "text/html": [
       "<div class=\"tex2jax_ignore\" style=\"white-space: pre-wrap\"><div><span style=\"display: inline-block; vertical-align: top\"> or </span><span style=\"display: inline-block; vertical-align: top; position: relative; margin-bottom: 11px\"><span style=\"border-bottom: 3px solid #ef9a9a; padding-bottom: 8px\">alpha-methyldopa</span><span style=\"font-size: 11px; line-height: 1; white-space: nowrap; text-shadow: 1px 1px 0px white; position: absolute; left: 0; bottom: -8px\">Methyldopa</span></span><span style=\"display: inline-block; vertical-align: top\"> and the possible role of the opiate in the central control </span></div><div><span style=\"display: inline-block; vertical-align: top\">of sympathetic tone.</span></div></div>"
      ],
      "text/plain": [
       "<IPython.core.display.HTML object>"
      ]
     },
     "metadata": {}
    },
    {
     "output_type": "stream",
     "name": "stdout",
     "text": [
      "-----------------------------------\n"
     ]
    }
   ],
   "metadata": {}
  },
  {
   "cell_type": "code",
   "execution_count": 2,
   "source": [
    "from el_toolkit.lexical_knowledge_base import Knowledge_Data,WordNet_Lexical_Knowledge_Base"
   ],
   "outputs": [],
   "metadata": {}
  },
  {
   "cell_type": "code",
   "execution_count": 3,
   "source": [
    "kd = Knowledge_Data.read_json(\"data/knowledge_datasets/trend.json\")"
   ],
   "outputs": [],
   "metadata": {}
  },
  {
   "cell_type": "code",
   "execution_count": 12,
   "source": [
    "kd.lexical_edges[0]"
   ],
   "outputs": [
    {
     "output_type": "execute_result",
     "data": {
      "text/plain": [
       "Lexical_Edge(concept_id='C0007404', term_id='S0007487')"
      ]
     },
     "metadata": {},
     "execution_count": 12
    }
   ],
   "metadata": {}
  },
  {
   "cell_type": "code",
   "execution_count": 5,
   "source": [
    "from el_toolkit.data_processors import derive_domain\n",
    "derive_domain(kd,\"C0439861\",\"isa\")"
   ],
   "outputs": [
    {
     "output_type": "execute_result",
     "data": {
      "text/plain": [
       "[Concept(id='C0439861', info={})]"
      ]
     },
     "metadata": {},
     "execution_count": 5
    }
   ],
   "metadata": {}
  },
  {
   "cell_type": "code",
   "execution_count": 8,
   "source": [
    "lkb.get_concept_node(\"C0439861\")._outward_related_concept_nodes"
   ],
   "outputs": [
    {
     "output_type": "execute_result",
     "data": {
      "text/plain": [
       "[]"
      ]
     },
     "metadata": {},
     "execution_count": 8
    }
   ],
   "metadata": {}
  },
  {
   "cell_type": "code",
   "execution_count": 16,
   "source": [
    "lkb.get_concepts_from_term_id(\"T1\")"
   ],
   "outputs": [
    {
     "output_type": "execute_result",
     "data": {
      "text/plain": [
       "[Concept(id='C2', info={'tst_attr': 4}),\n",
       " Concept(id='C3', info={'tst_attr': 5}),\n",
       " Concept(id='C3', info={'tst_attr': 5}),\n",
       " Concept(id='C3', info={'tst_attr': 5}),\n",
       " Concept(id='C1', info={'tst_attr': 3}),\n",
       " Concept(id='C1', info={'tst_attr': 3}),\n",
       " Concept(id='C1', info={'tst_attr': 3}),\n",
       " Concept(id='C2', info={'tst_attr': 4}),\n",
       " Concept(id='C2', info={'tst_attr': 4}),\n",
       " Concept(id='C3', info={'tst_attr': 5}),\n",
       " Concept(id='C2', info={'tst_attr': 4}),\n",
       " Concept(id='C1', info={'tst_attr': 3})]"
      ]
     },
     "metadata": {},
     "execution_count": 16
    }
   ],
   "metadata": {}
  },
  {
   "cell_type": "code",
   "execution_count": null,
   "source": [
    "Knowledge_Data.read_json(\"tests/test_data/test_knowledge_data/small_example.json\")"
   ],
   "outputs": [],
   "metadata": {}
  },
  {
   "cell_type": "code",
   "execution_count": null,
   "source": [
    "Knowledge_Data.read_json(\"tests/test_data/test_knowledge_data/small_example.json\")"
   ],
   "outputs": [],
   "metadata": {}
  },
  {
   "cell_type": "code",
   "execution_count": null,
   "source": [
    "lkb.get_concept(\"C1\")"
   ],
   "outputs": [],
   "metadata": {}
  },
  {
   "cell_type": "code",
   "execution_count": null,
   "source": [
    "lkb.id_to_concept_node"
   ],
   "outputs": [],
   "metadata": {}
  },
  {
   "cell_type": "code",
   "execution_count": 5,
   "source": [
    "from"
   ],
   "outputs": [
    {
     "output_type": "error",
     "ename": "NameError",
     "evalue": "name 'Concept' is not defined",
     "traceback": [
      "\u001b[0;31m---------------------------------------------------------------------------\u001b[0m",
      "\u001b[0;31mNameError\u001b[0m                                 Traceback (most recent call last)",
      "Input \u001b[0;32mIn [5]\u001b[0m, in \u001b[0;36m<module>\u001b[0;34m\u001b[0m\n\u001b[0;32m----> 1\u001b[0m \u001b[43mConcept\u001b[49m(\u001b[38;5;124m\"\u001b[39m\u001b[38;5;124mC1\u001b[39m\u001b[38;5;124m\"\u001b[39m)\n",
      "\u001b[0;31mNameError\u001b[0m: name 'Concept' is not defined"
     ]
    }
   ],
   "metadata": {}
  },
  {
   "cell_type": "code",
   "execution_count": 8,
   "source": [
    "from el_toolkit.lexical_knowledge_base import *"
   ],
   "outputs": [],
   "metadata": {}
  },
  {
   "cell_type": "code",
   "execution_count": 9,
   "source": [
    "c = Concept(\"c1\")\n",
    "t = Term(\"t1\",string=\"test\")"
   ],
   "outputs": [],
   "metadata": {}
  },
  {
   "cell_type": "code",
   "execution_count": 10,
   "source": [
    "c_node = Concept_Node(c)\n",
    "c_node._term_nodes"
   ],
   "outputs": [
    {
     "output_type": "execute_result",
     "data": {
      "text/plain": [
       "set()"
      ]
     },
     "metadata": {},
     "execution_count": 10
    }
   ],
   "metadata": {}
  },
  {
   "cell_type": "code",
   "execution_count": null,
   "source": [],
   "outputs": [],
   "metadata": {}
  }
 ],
 "metadata": {
  "orig_nbformat": 4,
  "language_info": {
   "name": "python",
   "version": "3.8.12",
   "mimetype": "text/x-python",
   "codemirror_mode": {
    "name": "ipython",
    "version": 3
   },
   "pygments_lexer": "ipython3",
   "nbconvert_exporter": "python",
   "file_extension": ".py"
  },
  "kernelspec": {
   "name": "python3",
   "display_name": "Python 3.8.12 64-bit ('notebook': conda)"
  },
  "interpreter": {
   "hash": "af92f991aa0b26b1adc7f2eb5be811ea3ded4d7855b3e81fbf5a6cf06c0d3a1e"
  }
 },
 "nbformat": 4,
 "nbformat_minor": 2
}